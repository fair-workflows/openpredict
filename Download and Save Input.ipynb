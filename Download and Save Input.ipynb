{
 "cells": [
  {
   "cell_type": "markdown",
   "metadata": {},
   "source": [
    "# Download and Save Input Data "
   ]
  },
  {
   "cell_type": "code",
   "execution_count": null,
   "metadata": {},
   "outputs": [],
   "source": [
    "sparql_endpoint=\"https://graphdb.dumontierlab.com/repositories/openpredict\"\n",
    "!curl -H \"Accept: text/csv\" --data-urlencode query@data/sparql/drugbank-drug-target.rq {sparql_endpoint} > data/input/drugbank-drug-target.csv\n"
   ]
  },
  {
   "cell_type": "code",
   "execution_count": 5,
   "metadata": {},
   "outputs": [
    {
     "name": "stdout",
     "output_type": "stream",
     "text": [
      "  % Total    % Received % Xferd  Average Speed   Time    Time     Time  Current\n",
      "                                 Dload  Upload   Total   Spent    Left  Speed\n",
      "100 1195k    0 1194k  100   876  24755     17  0:00:51  0:00:49  0:00:02 27114\n"
     ]
    }
   ],
   "source": [
    "!curl -H \"Accept: text/csv\" --data-urlencode query@data/sparql/drugbank-target-seq.rq {sparql_endpoint} > data/input/drugbank-target-seq.csv\n"
   ]
  },
  {
   "cell_type": "code",
   "execution_count": 8,
   "metadata": {},
   "outputs": [
    {
     "name": "stdout",
     "output_type": "stream",
     "text": [
      "  % Total    % Received % Xferd  Average Speed   Time    Time     Time  Current\n",
      "                                 Dload  Upload   Total   Spent    Left  Speed\n",
      "100 39088    0 38223  100   865   384k   8917 --:--:-- --:--:-- --:--:--  397k\n"
     ]
    }
   ],
   "source": [
    "!curl -H \"Accept: text/csv\" --data-urlencode query@data/sparql/drugbank-drug-smiles.rq {sparql_endpoint} > data/input/drugbank-drug-smiles.csv\n"
   ]
  },
  {
   "cell_type": "code",
   "execution_count": 9,
   "metadata": {},
   "outputs": [
    {
     "name": "stdout",
     "output_type": "stream",
     "text": [
      "  % Total    % Received % Xferd  Average Speed   Time    Time     Time  Current\n",
      "                                 Dload  Upload   Total   Spent    Left  Speed\n",
      "100 1309k    0 1307k  100  1464   399k    447  0:00:03  0:00:03 --:--:--  399k\n"
     ]
    }
   ],
   "source": [
    "!curl -H \"Accept: text/csv\" --data-urlencode query@data/sparql/drugbank-drug-goa.rq {sparql_endpoint} > data/input/drugbank-drug-goa.csv\n"
   ]
  },
  {
   "cell_type": "code",
   "execution_count": 10,
   "metadata": {},
   "outputs": [
    {
     "name": "stdout",
     "output_type": "stream",
     "text": [
      "  % Total    % Received % Xferd  Average Speed   Time    Time     Time  Current\n",
      "                                 Dload  Upload   Total   Spent    Left  Speed\n",
      "100 1344k    0 1343k  100  1136   236k    200  0:00:05  0:00:05 --:--:--  169k\n"
     ]
    }
   ],
   "source": [
    "!curl -H \"Accept: text/csv\" --data-urlencode query@data/sparql/drugbank-sider-sideeffects.rq {sparql_endpoint} > data/input/drugbank-sider-se.csv"
   ]
  },
  {
   "cell_type": "code",
   "execution_count": 28,
   "metadata": {},
   "outputs": [
    {
     "name": "stdout",
     "output_type": "stream",
     "text": [
      "  % Total    % Received % Xferd  Average Speed   Time    Time     Time  Current\n",
      "                                 Dload  Upload   Total   Spent    Left  Speed\n",
      "100 31499    0 30943  100   556  1162k  21384 --:--:-- --:--:-- --:--:-- 1230k\n"
     ]
    }
   ],
   "source": [
    "!curl -H \"Accept: text/csv\" --data-urlencode query@data/sparql/openpredict-omim-drug.rq {sparql_endpoint} > data/input/openpredict-omim-drug.csv\n"
   ]
  },
  {
   "cell_type": "code",
   "execution_count": 26,
   "metadata": {},
   "outputs": [
    {
     "name": "stdout",
     "output_type": "stream",
     "text": [
      "  % Total    % Received % Xferd  Average Speed   Time    Time     Time  Current\n",
      "                                 Dload  Upload   Total   Spent    Left  Speed\n",
      "100 1610k    0 1609k  100   806   934k    467  0:00:01  0:00:01 --:--:--  934k\n"
     ]
    }
   ],
   "source": [
    "!curl -H \"Accept: text/csv\" --data-urlencode query@data/sparql/human-interactome.rq {sparql_endpoint} > data/input/human-interactome.csv\n"
   ]
  },
  {
   "cell_type": "code",
   "execution_count": 30,
   "metadata": {},
   "outputs": [
    {
     "name": "stdout",
     "output_type": "stream",
     "text": [
      "  % Total    % Received % Xferd  Average Speed   Time    Time     Time  Current\n",
      "                                 Dload  Upload   Total   Spent    Left  Speed\n",
      "100  604k    0  603k  100   896   509k    756  0:00:01  0:00:01 --:--:--  510k\n"
     ]
    }
   ],
   "source": [
    "!curl -H \"Accept: text/csv\" --data-urlencode query@data/sparql/omim-disease-mesh.rq {sparql_endpoint} > data/input/omim-disease-mesh.csv\n"
   ]
  },
  {
   "cell_type": "code",
   "execution_count": 29,
   "metadata": {},
   "outputs": [
    {
     "name": "stdout",
     "output_type": "stream",
     "text": [
      "  % Total    % Received % Xferd  Average Speed   Time    Time     Time  Current\n",
      "                                 Dload  Upload   Total   Spent    Left  Speed\n",
      "100 57537    0 56657  100   880   419k   6666 --:--:-- --:--:-- --:--:--  425k\n"
     ]
    }
   ],
   "source": [
    "!curl -H \"Accept: text/csv\" --data-urlencode query@data/sparql/omim-disease-hpo.rq {sparql_endpoint} > data/input/omim-disease-hpo.csv\n"
   ]
  },
  {
   "cell_type": "code",
   "execution_count": 25,
   "metadata": {},
   "outputs": [
    {
     "name": "stdout",
     "output_type": "stream",
     "text": [
      "  % Total    % Received % Xferd  Average Speed   Time    Time     Time  Current\n",
      "                                 Dload  Upload   Total   Spent    Left  Speed\n",
      "100  811k    0  810k  100   560  41071     27  0:00:20  0:00:20 --:--:-- 85832\n"
     ]
    }
   ],
   "source": [
    "!curl -H \"Accept: text/csv\" --data-urlencode query@data/sparql/drugbank-drug-synonym.rq {sparql_endpoint} > data/input/drugbank-drug-synonym.csv\n"
   ]
  },
  {
   "cell_type": "markdown",
   "metadata": {},
   "source": [
    "# Create Feature Matrix"
   ]
  },
  {
   "cell_type": "code",
   "execution_count": 16,
   "metadata": {},
   "outputs": [
    {
     "data": {
      "text/html": [
       "<div>\n",
       "<style scoped>\n",
       "    .dataframe tbody tr th:only-of-type {\n",
       "        vertical-align: middle;\n",
       "    }\n",
       "\n",
       "    .dataframe tbody tr th {\n",
       "        vertical-align: top;\n",
       "    }\n",
       "\n",
       "    .dataframe thead th {\n",
       "        text-align: right;\n",
       "    }\n",
       "</style>\n",
       "<table border=\"1\" class=\"dataframe\">\n",
       "  <thead>\n",
       "    <tr style=\"text-align: right;\">\n",
       "      <th></th>\n",
       "      <th>drugid</th>\n",
       "      <th>smiles</th>\n",
       "    </tr>\n",
       "  </thead>\n",
       "  <tbody>\n",
       "    <tr>\n",
       "      <th>0</th>\n",
       "      <td>DB00014</td>\n",
       "      <td>CC(C)C[C@H](NC(=O)[C@@H](COC(C)(C)C)NC(=O)[C@H...</td>\n",
       "    </tr>\n",
       "    <tr>\n",
       "      <th>1</th>\n",
       "      <td>DB00035</td>\n",
       "      <td>NC(=O)CC[C@@H]1NC(=O)[C@H](CC2=CC=CC=C2)NC(=O)...</td>\n",
       "    </tr>\n",
       "    <tr>\n",
       "      <th>2</th>\n",
       "      <td>DB00091</td>\n",
       "      <td>CCC1NC(=O)C(C(O)C(C)CC=CC)N(C)C(=O)C(C(C)C)N(C...</td>\n",
       "    </tr>\n",
       "    <tr>\n",
       "      <th>3</th>\n",
       "      <td>DB00104</td>\n",
       "      <td>C[C@@H](O)[C@@H](CO)NC(=O)[C@@H]1CSSC[C@H](NC(...</td>\n",
       "    </tr>\n",
       "    <tr>\n",
       "      <th>4</th>\n",
       "      <td>DB00114</td>\n",
       "      <td>CC1=NC=C(COP(O)(O)=O)C(C=O)=C1O</td>\n",
       "    </tr>\n",
       "  </tbody>\n",
       "</table>\n",
       "</div>"
      ],
      "text/plain": [
       "    drugid                                             smiles\n",
       "0  DB00014  CC(C)C[C@H](NC(=O)[C@@H](COC(C)(C)C)NC(=O)[C@H...\n",
       "1  DB00035  NC(=O)CC[C@@H]1NC(=O)[C@H](CC2=CC=CC=C2)NC(=O)...\n",
       "2  DB00091  CCC1NC(=O)C(C(O)C(C)CC=CC)N(C)C(=O)C(C(C)C)N(C...\n",
       "3  DB00104  C[C@@H](O)[C@@H](CO)NC(=O)[C@@H]1CSSC[C@H](NC(...\n",
       "4  DB00114                    CC1=NC=C(COP(O)(O)=O)C(C=O)=C1O"
      ]
     },
     "execution_count": 16,
     "metadata": {},
     "output_type": "execute_result"
    }
   ],
   "source": [
    "import pandas as pd\n",
    "drug_target = pd.read_csv('data/input/drugbank-drug-target.csv')\n",
    "target_seq = pd.read_csv('data/input/drugbank-target-seq.csv')\n",
    "drug_goa = pd.read_csv('data/input/drugbank-drug-goa.csv')\n",
    "drug_smiles = pd.read_csv('data/input/drugbank-drug-smiles.csv')\n",
    "drug_se = pd.read_csv('data/input/drugbank-sider-se.csv')\n",
    "drug_smiles.head()"
   ]
  },
  {
   "cell_type": "code",
   "execution_count": 17,
   "metadata": {},
   "outputs": [
    {
     "data": {
      "text/html": [
       "<div>\n",
       "<style scoped>\n",
       "    .dataframe tbody tr th:only-of-type {\n",
       "        vertical-align: middle;\n",
       "    }\n",
       "\n",
       "    .dataframe tbody tr th {\n",
       "        vertical-align: top;\n",
       "    }\n",
       "\n",
       "    .dataframe thead th {\n",
       "        text-align: right;\n",
       "    }\n",
       "</style>\n",
       "<table border=\"1\" class=\"dataframe\">\n",
       "  <thead>\n",
       "    <tr style=\"text-align: right;\">\n",
       "      <th></th>\n",
       "      <th>geneid</th>\n",
       "      <th>seq</th>\n",
       "    </tr>\n",
       "  </thead>\n",
       "  <tbody>\n",
       "    <tr>\n",
       "      <th>0</th>\n",
       "      <td>1128</td>\n",
       "      <td>&gt;Muscarinic acetylcholine receptor M1\\nMNTSAPP...</td>\n",
       "    </tr>\n",
       "    <tr>\n",
       "      <th>1</th>\n",
       "      <td>1129</td>\n",
       "      <td>&gt;Muscarinic acetylcholine receptor M2\\nMNNSTNS...</td>\n",
       "    </tr>\n",
       "    <tr>\n",
       "      <th>2</th>\n",
       "      <td>148</td>\n",
       "      <td>&gt;Alpha-1A adrenergic receptor\\nMVFLSGNASDSSNCT...</td>\n",
       "    </tr>\n",
       "    <tr>\n",
       "      <th>3</th>\n",
       "      <td>147</td>\n",
       "      <td>&gt;Alpha-1B adrenergic receptor\\nMNPDLDTGHNTSAPA...</td>\n",
       "    </tr>\n",
       "    <tr>\n",
       "      <th>4</th>\n",
       "      <td>146</td>\n",
       "      <td>&gt;Alpha-1D adrenergic receptor\\nMTFRDLLSVSFEGPR...</td>\n",
       "    </tr>\n",
       "  </tbody>\n",
       "</table>\n",
       "</div>"
      ],
      "text/plain": [
       "   geneid                                                seq\n",
       "0    1128  >Muscarinic acetylcholine receptor M1\\nMNTSAPP...\n",
       "1    1129  >Muscarinic acetylcholine receptor M2\\nMNNSTNS...\n",
       "2     148  >Alpha-1A adrenergic receptor\\nMVFLSGNASDSSNCT...\n",
       "3     147  >Alpha-1B adrenergic receptor\\nMNPDLDTGHNTSAPA...\n",
       "4     146  >Alpha-1D adrenergic receptor\\nMTFRDLLSVSFEGPR..."
      ]
     },
     "execution_count": 17,
     "metadata": {},
     "output_type": "execute_result"
    }
   ],
   "source": [
    "target_seq.head()"
   ]
  },
  {
   "cell_type": "code",
   "execution_count": 18,
   "metadata": {},
   "outputs": [
    {
     "data": {
      "text/html": [
       "<div>\n",
       "<style scoped>\n",
       "    .dataframe tbody tr th:only-of-type {\n",
       "        vertical-align: middle;\n",
       "    }\n",
       "\n",
       "    .dataframe tbody tr th {\n",
       "        vertical-align: top;\n",
       "    }\n",
       "\n",
       "    .dataframe thead th {\n",
       "        text-align: right;\n",
       "    }\n",
       "</style>\n",
       "<table border=\"1\" class=\"dataframe\">\n",
       "  <thead>\n",
       "    <tr style=\"text-align: right;\">\n",
       "      <th></th>\n",
       "      <th>drugid</th>\n",
       "      <th>umlsid</th>\n",
       "    </tr>\n",
       "  </thead>\n",
       "  <tbody>\n",
       "    <tr>\n",
       "      <th>0</th>\n",
       "      <td>DB00583</td>\n",
       "      <td>C0000729</td>\n",
       "    </tr>\n",
       "    <tr>\n",
       "      <th>1</th>\n",
       "      <td>DB00583</td>\n",
       "      <td>C0000737</td>\n",
       "    </tr>\n",
       "    <tr>\n",
       "      <th>2</th>\n",
       "      <td>DB00583</td>\n",
       "      <td>C0002418</td>\n",
       "    </tr>\n",
       "    <tr>\n",
       "      <th>3</th>\n",
       "      <td>DB00583</td>\n",
       "      <td>C0002871</td>\n",
       "    </tr>\n",
       "    <tr>\n",
       "      <th>4</th>\n",
       "      <td>DB00583</td>\n",
       "      <td>C0003123</td>\n",
       "    </tr>\n",
       "  </tbody>\n",
       "</table>\n",
       "</div>"
      ],
      "text/plain": [
       "    drugid    umlsid\n",
       "0  DB00583  C0000729\n",
       "1  DB00583  C0000737\n",
       "2  DB00583  C0002418\n",
       "3  DB00583  C0002871\n",
       "4  DB00583  C0003123"
      ]
     },
     "execution_count": 18,
     "metadata": {},
     "output_type": "execute_result"
    }
   ],
   "source": [
    "drug_se.head()"
   ]
  },
  {
   "cell_type": "code",
   "execution_count": 19,
   "metadata": {},
   "outputs": [
    {
     "data": {
      "text/html": [
       "<div>\n",
       "<style scoped>\n",
       "    .dataframe tbody tr th:only-of-type {\n",
       "        vertical-align: middle;\n",
       "    }\n",
       "\n",
       "    .dataframe tbody tr th {\n",
       "        vertical-align: top;\n",
       "    }\n",
       "\n",
       "    .dataframe thead th {\n",
       "        text-align: right;\n",
       "    }\n",
       "</style>\n",
       "<table border=\"1\" class=\"dataframe\">\n",
       "  <thead>\n",
       "    <tr style=\"text-align: right;\">\n",
       "      <th></th>\n",
       "      <th>drugid</th>\n",
       "      <th>g</th>\n",
       "    </tr>\n",
       "  </thead>\n",
       "  <tbody>\n",
       "    <tr>\n",
       "      <th>0</th>\n",
       "      <td>DB01148</td>\n",
       "      <td>go:0007399</td>\n",
       "    </tr>\n",
       "    <tr>\n",
       "      <th>1</th>\n",
       "      <td>DB01148</td>\n",
       "      <td>go:0007186</td>\n",
       "    </tr>\n",
       "    <tr>\n",
       "      <th>2</th>\n",
       "      <td>DB01148</td>\n",
       "      <td>go:0007165</td>\n",
       "    </tr>\n",
       "    <tr>\n",
       "      <th>3</th>\n",
       "      <td>DB01148</td>\n",
       "      <td>go:0006464</td>\n",
       "    </tr>\n",
       "    <tr>\n",
       "      <th>4</th>\n",
       "      <td>DB01148</td>\n",
       "      <td>go:0008284</td>\n",
       "    </tr>\n",
       "  </tbody>\n",
       "</table>\n",
       "</div>"
      ],
      "text/plain": [
       "    drugid           g\n",
       "0  DB01148  go:0007399\n",
       "1  DB01148  go:0007186\n",
       "2  DB01148  go:0007165\n",
       "3  DB01148  go:0006464\n",
       "4  DB01148  go:0008284"
      ]
     },
     "execution_count": 19,
     "metadata": {},
     "output_type": "execute_result"
    }
   ],
   "source": [
    "drug_goa.head()"
   ]
  },
  {
   "cell_type": "code",
   "execution_count": 31,
   "metadata": {},
   "outputs": [
    {
     "name": "stdout",
     "output_type": "stream",
     "text": [
      "579 579 583 524\n",
      "510\n"
     ]
    }
   ],
   "source": [
    "a=drug_goa['drugid'].unique()\n",
    "b=drug_target['drugid'].unique()\n",
    "c=drug_smiles['drugid'].unique()\n",
    "d=drug_se['drugid'].unique()\n",
    "commonDrugs= set(a).intersection(b).intersection(c).intersection(d)\n",
    "print (len(a),len(b),len(c),len(d))\n",
    "print (len(commonDrugs))"
   ]
  },
  {
   "cell_type": "code",
   "execution_count": 32,
   "metadata": {},
   "outputs": [
    {
     "data": {
      "text/html": [
       "<div>\n",
       "<style scoped>\n",
       "    .dataframe tbody tr th:only-of-type {\n",
       "        vertical-align: middle;\n",
       "    }\n",
       "\n",
       "    .dataframe tbody tr th {\n",
       "        vertical-align: top;\n",
       "    }\n",
       "\n",
       "    .dataframe thead th {\n",
       "        text-align: right;\n",
       "    }\n",
       "</style>\n",
       "<table border=\"1\" class=\"dataframe\">\n",
       "  <thead>\n",
       "    <tr style=\"text-align: right;\">\n",
       "      <th></th>\n",
       "      <th>drugid</th>\n",
       "      <th>omimid</th>\n",
       "    </tr>\n",
       "  </thead>\n",
       "  <tbody>\n",
       "    <tr>\n",
       "      <th>0</th>\n",
       "      <td>DB01148</td>\n",
       "      <td>231200</td>\n",
       "    </tr>\n",
       "    <tr>\n",
       "      <th>1</th>\n",
       "      <td>DB01148</td>\n",
       "      <td>155100</td>\n",
       "    </tr>\n",
       "    <tr>\n",
       "      <th>2</th>\n",
       "      <td>DB01148</td>\n",
       "      <td>273800</td>\n",
       "    </tr>\n",
       "    <tr>\n",
       "      <th>3</th>\n",
       "      <td>DB00575</td>\n",
       "      <td>607554</td>\n",
       "    </tr>\n",
       "    <tr>\n",
       "      <th>4</th>\n",
       "      <td>DB00575</td>\n",
       "      <td>171300</td>\n",
       "    </tr>\n",
       "  </tbody>\n",
       "</table>\n",
       "</div>"
      ],
      "text/plain": [
       "    drugid  omimid\n",
       "0  DB01148  231200\n",
       "1  DB01148  155100\n",
       "2  DB01148  273800\n",
       "3  DB00575  607554\n",
       "4  DB00575  171300"
      ]
     },
     "execution_count": 32,
     "metadata": {},
     "output_type": "execute_result"
    }
   ],
   "source": [
    "gold_ind =pd.read_csv('data/input/openpredict-omim-drug.csv')\n",
    "gold_ind.head()"
   ]
  },
  {
   "cell_type": "code",
   "execution_count": 33,
   "metadata": {},
   "outputs": [],
   "source": [
    "gold_ind.rename(columns={'drugid':'Drug','omimid':'Disease'}, inplace=True)"
   ]
  },
  {
   "cell_type": "code",
   "execution_count": 40,
   "metadata": {},
   "outputs": [
    {
     "name": "stdout",
     "output_type": "stream",
     "text": [
      "510 drugs have all features \n",
      "579 drugs have GOA feature \n",
      "579 drugs have Target feature \n",
      "583 drugs have Fingerprint feature \n",
      "524 drugs have Sideeffect feature \n"
     ]
    }
   ],
   "source": [
    "print (\"%d drugs have all features \"%len( commonDrugs.intersection( gold_ind.Drug.unique())))\n",
    "print (\"%d drugs have GOA feature \"%len( set(a).intersection( gold_ind.Drug.unique())))\n",
    "print (\"%d drugs have Target feature \"%len( set(b).intersection( gold_ind.Drug.unique())))\n",
    "print (\"%d drugs have Fingerprint feature \"%len( set(c).intersection( gold_ind.Drug.unique())))\n",
    "print (\"%d drugs have Sideeffect feature \"%len( set(d).intersection( gold_ind.Drug.unique())))"
   ]
  },
  {
   "cell_type": "code",
   "execution_count": 35,
   "metadata": {},
   "outputs": [],
   "source": [
    "disease_hpo = pd.read_csv('data/input/omim-disease-hpo.csv')\n",
    "disease_mesh = pd.read_csv('data/input/omim-disease-mesh.csv')"
   ]
  },
  {
   "cell_type": "code",
   "execution_count": 37,
   "metadata": {},
   "outputs": [],
   "source": [
    "dis1 = disease_mesh['diseaseid'].unique()\n",
    "dis2 = disease_hpo['diseaseid'].unique()"
   ]
  },
  {
   "cell_type": "code",
   "execution_count": 36,
   "metadata": {},
   "outputs": [
    {
     "data": {
      "text/html": [
       "<div>\n",
       "<style scoped>\n",
       "    .dataframe tbody tr th:only-of-type {\n",
       "        vertical-align: middle;\n",
       "    }\n",
       "\n",
       "    .dataframe tbody tr th {\n",
       "        vertical-align: top;\n",
       "    }\n",
       "\n",
       "    .dataframe thead th {\n",
       "        text-align: right;\n",
       "    }\n",
       "</style>\n",
       "<table border=\"1\" class=\"dataframe\">\n",
       "  <thead>\n",
       "    <tr style=\"text-align: right;\">\n",
       "      <th></th>\n",
       "      <th>diseaseid</th>\n",
       "      <th>hpoid</th>\n",
       "    </tr>\n",
       "  </thead>\n",
       "  <tbody>\n",
       "    <tr>\n",
       "      <th>0</th>\n",
       "      <td>231200</td>\n",
       "      <td>mesh:D000328</td>\n",
       "    </tr>\n",
       "    <tr>\n",
       "      <th>1</th>\n",
       "      <td>231200</td>\n",
       "      <td>mesh:D016133</td>\n",
       "    </tr>\n",
       "    <tr>\n",
       "      <th>2</th>\n",
       "      <td>231200</td>\n",
       "      <td>mesh:D003241</td>\n",
       "    </tr>\n",
       "    <tr>\n",
       "      <th>3</th>\n",
       "      <td>231200</td>\n",
       "      <td>mesh:D008969</td>\n",
       "    </tr>\n",
       "    <tr>\n",
       "      <th>4</th>\n",
       "      <td>231200</td>\n",
       "      <td>mesh:D000595</td>\n",
       "    </tr>\n",
       "  </tbody>\n",
       "</table>\n",
       "</div>"
      ],
      "text/plain": [
       "   diseaseid         hpoid\n",
       "0     231200  mesh:D000328\n",
       "1     231200  mesh:D016133\n",
       "2     231200  mesh:D003241\n",
       "3     231200  mesh:D008969\n",
       "4     231200  mesh:D000595"
      ]
     },
     "execution_count": 36,
     "metadata": {},
     "output_type": "execute_result"
    }
   ],
   "source": [
    "disease_mesh.head()"
   ]
  },
  {
   "cell_type": "code",
   "execution_count": 39,
   "metadata": {},
   "outputs": [
    {
     "name": "stdout",
     "output_type": "stream",
     "text": [
      "300 drugs that have all features \n",
      "300 drugs that have MESH feature \n",
      "310 drugs that have HPO feature \n"
     ]
    }
   ],
   "source": [
    "commonDiseases = set(dis1).intersection(dis2)\n",
    "print (\"%d drugs that have all features \"%len( commonDiseases.intersection( gold_ind.Disease.unique())))\n",
    "print (\"%d drugs that have MESH feature \"%len( set(dis1).intersection( gold_ind.Disease.unique())))\n",
    "print (\"%d drugs that have HPO feature \"%len( set(dis2).intersection( gold_ind.Disease.unique())))\n",
    "\n"
   ]
  },
  {
   "cell_type": "code",
   "execution_count": null,
   "metadata": {},
   "outputs": [],
   "source": []
  }
 ],
 "metadata": {
  "kernelspec": {
   "display_name": "Python 3",
   "language": "python",
   "name": "python3"
  },
  "language_info": {
   "codemirror_mode": {
    "name": "ipython",
    "version": 3
   },
   "file_extension": ".py",
   "mimetype": "text/x-python",
   "name": "python",
   "nbconvert_exporter": "python",
   "pygments_lexer": "ipython3",
   "version": "3.7.3"
  }
 },
 "nbformat": 4,
 "nbformat_minor": 2
}
