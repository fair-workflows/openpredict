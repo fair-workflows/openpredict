{
 "cells": [
  {
   "cell_type": "code",
   "execution_count": 1,
   "metadata": {
    "collapsed": true
   },
   "outputs": [],
   "source": [
    "\"\"\"\n",
    "RDF generator for the PREDICT drug indication gold standard (https://www.ncbi.nlm.nih.gov/pmc/articles/PMC3159979/bin/msb201126-s4.xls)\n",
    "@version 1.0\n",
    "@author Remzi Celebi\n",
    "\"\"\"\n",
    "\n",
    "\n",
    "import pandas as pd\n",
    "from csv import reader\n",
    "from src.util import utils\n",
    "from src.util.utils import Dataset, DataResource\n",
    "from rdflib import Graph, URIRef, Literal, RDF, ConjunctiveGraph\n",
    "from rdflib import Namespace\n",
    "import datetime"
   ]
  },
  {
   "cell_type": "code",
   "execution_count": 2,
   "metadata": {},
   "outputs": [
    {
     "data": {
      "text/html": [
       "<div>\n",
       "<style scoped>\n",
       "    .dataframe tbody tr th:only-of-type {\n",
       "        vertical-align: middle;\n",
       "    }\n",
       "\n",
       "    .dataframe tbody tr th {\n",
       "        vertical-align: top;\n",
       "    }\n",
       "\n",
       "    .dataframe thead th {\n",
       "        text-align: right;\n",
       "    }\n",
       "</style>\n",
       "<table border=\"1\" class=\"dataframe\">\n",
       "  <thead>\n",
       "    <tr style=\"text-align: right;\">\n",
       "      <th></th>\n",
       "      <th>OMIM ID</th>\n",
       "      <th>OMIM disease name</th>\n",
       "      <th>UMLS concept ID</th>\n",
       "      <th>UMLS concept name</th>\n",
       "    </tr>\n",
       "  </thead>\n",
       "  <tbody>\n",
       "    <tr>\n",
       "      <th>0</th>\n",
       "      <td>102100</td>\n",
       "      <td>Acromegaloid Changes, Cutis Verticis Gyrata, A...</td>\n",
       "      <td>C1868756</td>\n",
       "      <td>Corneal leukoma</td>\n",
       "    </tr>\n",
       "    <tr>\n",
       "      <th>1</th>\n",
       "      <td>102100</td>\n",
       "      <td>Acromegaloid Changes, Cutis Verticis Gyrata, A...</td>\n",
       "      <td>C0263417</td>\n",
       "      <td>Cutis verticis gyrata</td>\n",
       "    </tr>\n",
       "    <tr>\n",
       "      <th>2</th>\n",
       "      <td>102300</td>\n",
       "      <td>Restless Legs Syndrome, Susceptibility To, 1; ...</td>\n",
       "      <td>C0035258</td>\n",
       "      <td>Restless Legs Syndrome</td>\n",
       "    </tr>\n",
       "    <tr>\n",
       "      <th>3</th>\n",
       "      <td>102300</td>\n",
       "      <td>Restless Legs Syndrome, Susceptibility To, 1; ...</td>\n",
       "      <td>C1876177</td>\n",
       "      <td>RLS1 (Ekbom Syndrome)</td>\n",
       "    </tr>\n",
       "    <tr>\n",
       "      <th>4</th>\n",
       "      <td>102400</td>\n",
       "      <td>Acroosteolysis</td>\n",
       "      <td>C0917990</td>\n",
       "      <td>Acroosteolysis (Acro-Osteolysis)</td>\n",
       "    </tr>\n",
       "  </tbody>\n",
       "</table>\n",
       "</div>"
      ],
      "text/plain": [
       "   OMIM ID                                  OMIM disease name UMLS concept ID  \\\n",
       "0   102100  Acromegaloid Changes, Cutis Verticis Gyrata, A...        C1868756   \n",
       "1   102100  Acromegaloid Changes, Cutis Verticis Gyrata, A...        C0263417   \n",
       "2   102300  Restless Legs Syndrome, Susceptibility To, 1; ...        C0035258   \n",
       "3   102300  Restless Legs Syndrome, Susceptibility To, 1; ...        C1876177   \n",
       "4   102400                                     Acroosteolysis        C0917990   \n",
       "\n",
       "                  UMLS concept name  \n",
       "0                   Corneal leukoma  \n",
       "1             Cutis verticis gyrata  \n",
       "2            Restless Legs Syndrome  \n",
       "3             RLS1 (Ekbom Syndrome)  \n",
       "4  Acroosteolysis (Acro-Osteolysis)  "
      ]
     },
     "execution_count": 2,
     "metadata": {},
     "output_type": "execute_result"
    }
   ],
   "source": [
    "mapping_df = pd.read_excel('https://www.ncbi.nlm.nih.gov/pmc/articles/PMC3159979/bin/msb201126-s4.xls')\n",
    "mapping_df.head()"
   ]
  },
  {
   "cell_type": "code",
   "execution_count": 3,
   "metadata": {},
   "outputs": [],
   "source": [
    "#save the original file\n",
    "mapping_df.to_csv('data/external/msb201126-s4.csv', index=False)"
   ]
  },
  {
   "cell_type": "code",
   "execution_count": 4,
   "metadata": {},
   "outputs": [],
   "source": [
    "mapping_df['OMIM disease name'].replace({'Neuropathy, Hereditary Sensory And Autonomic, Type I, With Cough And':\n",
    "                                         'Neuropathy, Hereditary Sensory And Autonomic, Type I, With Cough And Gastroesophageal Reflux'}, inplace=True)"
   ]
  },
  {
   "cell_type": "code",
   "execution_count": 5,
   "metadata": {},
   "outputs": [
    {
     "data": {
      "text/html": [
       "<div>\n",
       "<style scoped>\n",
       "    .dataframe tbody tr th:only-of-type {\n",
       "        vertical-align: middle;\n",
       "    }\n",
       "\n",
       "    .dataframe tbody tr th {\n",
       "        vertical-align: top;\n",
       "    }\n",
       "\n",
       "    .dataframe thead th {\n",
       "        text-align: right;\n",
       "    }\n",
       "</style>\n",
       "<table border=\"1\" class=\"dataframe\">\n",
       "  <thead>\n",
       "    <tr style=\"text-align: right;\">\n",
       "      <th></th>\n",
       "      <th>Drug name</th>\n",
       "      <th>Disease name</th>\n",
       "    </tr>\n",
       "  </thead>\n",
       "  <tbody>\n",
       "    <tr>\n",
       "      <th>0</th>\n",
       "      <td>Acamprosate</td>\n",
       "      <td>Alcohol Dependence</td>\n",
       "    </tr>\n",
       "    <tr>\n",
       "      <th>1</th>\n",
       "      <td>Acarbose</td>\n",
       "      <td>Diabetes Mellitus, Noninsulin-Dependent; Niddm</td>\n",
       "    </tr>\n",
       "    <tr>\n",
       "      <th>2</th>\n",
       "      <td>Acarbose</td>\n",
       "      <td>Maturity-Onset Diabetes Of The Young, Type 1; ...</td>\n",
       "    </tr>\n",
       "    <tr>\n",
       "      <th>3</th>\n",
       "      <td>Acarbose</td>\n",
       "      <td>Maturity-Onset Diabetes Of The Young, Type 2; ...</td>\n",
       "    </tr>\n",
       "    <tr>\n",
       "      <th>4</th>\n",
       "      <td>Acarbose</td>\n",
       "      <td>Maturity-Onset Diabetes Of The Young, Type 3; ...</td>\n",
       "    </tr>\n",
       "  </tbody>\n",
       "</table>\n",
       "</div>"
      ],
      "text/plain": [
       "     Drug name                                       Disease name\n",
       "0  Acamprosate                                 Alcohol Dependence\n",
       "1     Acarbose     Diabetes Mellitus, Noninsulin-Dependent; Niddm\n",
       "2     Acarbose  Maturity-Onset Diabetes Of The Young, Type 1; ...\n",
       "3     Acarbose  Maturity-Onset Diabetes Of The Young, Type 2; ...\n",
       "4     Acarbose  Maturity-Onset Diabetes Of The Young, Type 3; ..."
      ]
     },
     "execution_count": 5,
     "metadata": {},
     "output_type": "execute_result"
    }
   ],
   "source": [
    "goldstd_df = pd.read_excel('https://www.ncbi.nlm.nih.gov/pmc/articles/PMC3159979/bin/msb201126-s1.xls')\n",
    "goldstd_df.head()"
   ]
  },
  {
   "cell_type": "code",
   "execution_count": 6,
   "metadata": {},
   "outputs": [],
   "source": [
    "goldstd_df['Drug name'].replace({'Divalproex Sodium':'Valproic Acid',\n",
    "                                 'Bismuth':'Bismuth subsalicylate',\n",
    "                                'Clobetasol':'Clobetasol propionate',\n",
    "                               'Guanadrel Sulfate':'Guanadrel',\n",
    "                                 'Marinol':'Dronabinol',\n",
    "                               'Medroxyprogesterone':'Medroxyprogesterone acetate',\n",
    "                                'Megestrol':'Megestrol acetate',\n",
    "                                'Propoxyphene':'Dextropropoxyphene',\n",
    "                                 'Salicyclic Acid':'Salicylic acid',\n",
    "                                'Ipratropium':'Ipratropiumbromid',\n",
    "                                'Adenosine Monophosphate':'Adenosine monophosphate',\n",
    "                                'Arsenic Trioxide':'Arsenic trioxide',\n",
    "                                'Ethacrynic Acid':'Ethacrynic acid',\n",
    "                                'Fondaparinux Sodium':'Fondaparinux sodium',\n",
    "                                 'Meclofenamic Acid':'Meclofenamic acid',\n",
    "                                'Methyl Aminolevulinate':'Methyl aminolevulinate'},inplace=True)"
   ]
  },
  {
   "cell_type": "code",
   "execution_count": 7,
   "metadata": {},
   "outputs": [],
   "source": [
    "merged_df = goldstd_df.merge(mapping_df, left_on='Disease name', right_on='OMIM disease name')\n"
   ]
  },
  {
   "cell_type": "code",
   "execution_count": 8,
   "metadata": {},
   "outputs": [
    {
     "data": {
      "text/html": [
       "<div>\n",
       "<style scoped>\n",
       "    .dataframe tbody tr th:only-of-type {\n",
       "        vertical-align: middle;\n",
       "    }\n",
       "\n",
       "    .dataframe tbody tr th {\n",
       "        vertical-align: top;\n",
       "    }\n",
       "\n",
       "    .dataframe thead th {\n",
       "        text-align: right;\n",
       "    }\n",
       "</style>\n",
       "<table border=\"1\" class=\"dataframe\">\n",
       "  <thead>\n",
       "    <tr style=\"text-align: right;\">\n",
       "      <th></th>\n",
       "      <th>Drug name</th>\n",
       "      <th>Disease name</th>\n",
       "      <th>OMIM ID</th>\n",
       "      <th>OMIM disease name</th>\n",
       "      <th>UMLS concept ID</th>\n",
       "      <th>UMLS concept name</th>\n",
       "    </tr>\n",
       "  </thead>\n",
       "  <tbody>\n",
       "    <tr>\n",
       "      <th>0</th>\n",
       "      <td>Acamprosate</td>\n",
       "      <td>Alcohol Dependence</td>\n",
       "      <td>103780</td>\n",
       "      <td>Alcohol Dependence</td>\n",
       "      <td>C0001973</td>\n",
       "      <td>Alcohol Dependence (Alcoholic Intoxication, Ch...</td>\n",
       "    </tr>\n",
       "    <tr>\n",
       "      <th>1</th>\n",
       "      <td>Chlordiazepoxide</td>\n",
       "      <td>Alcohol Dependence</td>\n",
       "      <td>103780</td>\n",
       "      <td>Alcohol Dependence</td>\n",
       "      <td>C0001973</td>\n",
       "      <td>Alcohol Dependence (Alcoholic Intoxication, Ch...</td>\n",
       "    </tr>\n",
       "    <tr>\n",
       "      <th>2</th>\n",
       "      <td>Citalopram</td>\n",
       "      <td>Alcohol Dependence</td>\n",
       "      <td>103780</td>\n",
       "      <td>Alcohol Dependence</td>\n",
       "      <td>C0001973</td>\n",
       "      <td>Alcohol Dependence (Alcoholic Intoxication, Ch...</td>\n",
       "    </tr>\n",
       "    <tr>\n",
       "      <th>3</th>\n",
       "      <td>Disulfiram</td>\n",
       "      <td>Alcohol Dependence</td>\n",
       "      <td>103780</td>\n",
       "      <td>Alcohol Dependence</td>\n",
       "      <td>C0001973</td>\n",
       "      <td>Alcohol Dependence (Alcoholic Intoxication, Ch...</td>\n",
       "    </tr>\n",
       "    <tr>\n",
       "      <th>4</th>\n",
       "      <td>Naltrexone</td>\n",
       "      <td>Alcohol Dependence</td>\n",
       "      <td>103780</td>\n",
       "      <td>Alcohol Dependence</td>\n",
       "      <td>C0001973</td>\n",
       "      <td>Alcohol Dependence (Alcoholic Intoxication, Ch...</td>\n",
       "    </tr>\n",
       "  </tbody>\n",
       "</table>\n",
       "</div>"
      ],
      "text/plain": [
       "          Drug name        Disease name  OMIM ID   OMIM disease name  \\\n",
       "0       Acamprosate  Alcohol Dependence   103780  Alcohol Dependence   \n",
       "1  Chlordiazepoxide  Alcohol Dependence   103780  Alcohol Dependence   \n",
       "2        Citalopram  Alcohol Dependence   103780  Alcohol Dependence   \n",
       "3        Disulfiram  Alcohol Dependence   103780  Alcohol Dependence   \n",
       "4        Naltrexone  Alcohol Dependence   103780  Alcohol Dependence   \n",
       "\n",
       "  UMLS concept ID                                  UMLS concept name  \n",
       "0        C0001973  Alcohol Dependence (Alcoholic Intoxication, Ch...  \n",
       "1        C0001973  Alcohol Dependence (Alcoholic Intoxication, Ch...  \n",
       "2        C0001973  Alcohol Dependence (Alcoholic Intoxication, Ch...  \n",
       "3        C0001973  Alcohol Dependence (Alcoholic Intoxication, Ch...  \n",
       "4        C0001973  Alcohol Dependence (Alcoholic Intoxication, Ch...  "
      ]
     },
     "execution_count": 8,
     "metadata": {},
     "output_type": "execute_result"
    }
   ],
   "source": [
    "merged_df.head()"
   ]
  },
  {
   "cell_type": "code",
   "execution_count": 9,
   "metadata": {},
   "outputs": [
    {
     "name": "stdout",
     "output_type": "stream",
     "text": [
      "  % Total    % Received % Xferd  Average Speed   Time    Time     Time  Current\n",
      "                                 Dload  Upload   Total   Spent    Left  Speed\n",
      "100  811k    0  810k  100   560  32354     21  0:00:26  0:00:25  0:00:01 96470\n"
     ]
    }
   ],
   "source": [
    "sparql_endpoint=\"https://graphdb.dumontierlab.com/repositories/openpredict\"\n",
    "!curl -H \"Accept: text/csv\" --data-urlencode query@data/sparql/drugbank-drug-synonym.rq {sparql_endpoint} > data/input/drugbank-drug-synonym.csv\n"
   ]
  },
  {
   "cell_type": "code",
   "execution_count": 10,
   "metadata": {},
   "outputs": [
    {
     "data": {
      "text/html": [
       "<div>\n",
       "<style scoped>\n",
       "    .dataframe tbody tr th:only-of-type {\n",
       "        vertical-align: middle;\n",
       "    }\n",
       "\n",
       "    .dataframe tbody tr th {\n",
       "        vertical-align: top;\n",
       "    }\n",
       "\n",
       "    .dataframe thead th {\n",
       "        text-align: right;\n",
       "    }\n",
       "</style>\n",
       "<table border=\"1\" class=\"dataframe\">\n",
       "  <thead>\n",
       "    <tr style=\"text-align: right;\">\n",
       "      <th></th>\n",
       "      <th>drugid</th>\n",
       "      <th>name</th>\n",
       "    </tr>\n",
       "  </thead>\n",
       "  <tbody>\n",
       "    <tr>\n",
       "      <th>0</th>\n",
       "      <td>DB01148</td>\n",
       "      <td>2-(1-Piperidinyl)ethyl 3-methyl-4-oxo-2-phenyl...</td>\n",
       "    </tr>\n",
       "    <tr>\n",
       "      <th>1</th>\n",
       "      <td>DB01148</td>\n",
       "      <td>2-Piperidinoethyl 3-methyl-4-oxo-2-phenyl-4H-1...</td>\n",
       "    </tr>\n",
       "    <tr>\n",
       "      <th>2</th>\n",
       "      <td>DB01148</td>\n",
       "      <td>2-Piperidinoethyl 3-methylflavone-8-carboxylate</td>\n",
       "    </tr>\n",
       "    <tr>\n",
       "      <th>3</th>\n",
       "      <td>DB01148</td>\n",
       "      <td>beta-Piperidinoethyl 3-methylflavone-8-carboxy...</td>\n",
       "    </tr>\n",
       "    <tr>\n",
       "      <th>4</th>\n",
       "      <td>DB01148</td>\n",
       "      <td>Flavoxate</td>\n",
       "    </tr>\n",
       "  </tbody>\n",
       "</table>\n",
       "</div>"
      ],
      "text/plain": [
       "    drugid                                               name\n",
       "0  DB01148  2-(1-Piperidinyl)ethyl 3-methyl-4-oxo-2-phenyl...\n",
       "1  DB01148  2-Piperidinoethyl 3-methyl-4-oxo-2-phenyl-4H-1...\n",
       "2  DB01148    2-Piperidinoethyl 3-methylflavone-8-carboxylate\n",
       "3  DB01148  beta-Piperidinoethyl 3-methylflavone-8-carboxy...\n",
       "4  DB01148                                          Flavoxate"
      ]
     },
     "execution_count": 10,
     "metadata": {},
     "output_type": "execute_result"
    }
   ],
   "source": [
    "drug_synonym_df = pd.read_csv('data/input/drugbank-drug-synonym.csv')\n",
    "drug_synonym_df.head()"
   ]
  },
  {
   "cell_type": "code",
   "execution_count": 11,
   "metadata": {},
   "outputs": [
    {
     "name": "stdout",
     "output_type": "stream",
     "text": [
      "# of drug-disease associations 1933\n"
     ]
    }
   ],
   "source": [
    "merged_df = merged_df.merge(drug_synonym_df, left_on='Drug name', right_on='name')\n",
    "\n",
    "print ('# of drug-disease associations',len(merged_df[['drugid','OMIM ID']].drop_duplicates()))\n",
    "\n",
    "\n",
    "gold_std_mapped_df = merged_df[['drugid','OMIM ID']].drop_duplicates()\n",
    "gold_std_mapped_df['drugid'] = gold_std_mapped_df['drugid'].map(lambda x: 'http://bio2rdf.org/drugbank:'+str(x))\n",
    "gold_std_mapped_df['OMIM ID'] = gold_std_mapped_df['OMIM ID'].map(lambda x: 'http://bio2rdf.org/omim:'+str(x))\n",
    "gold_std_mapped_df.rename(columns={'OMIM ID':'http://bio2rdf.org/openpredict_vocabulary:indication'},inplace=True)\n",
    "gold_std_mapped_df= gold_std_mapped_df.set_index('drugid', drop=True)\n",
    "\n"
   ]
  },
  {
   "cell_type": "code",
   "execution_count": 12,
   "metadata": {},
   "outputs": [],
   "source": [
    "column_types ={'http://bio2rdf.org/openpredict_vocabulary:indication':'URI'}\n",
    "graphURI ='http://w3id.org/fairworkflows/dataset.openpredict.indications.R1'\n",
    "g = ConjunctiveGraph(identifier = URIRef(graphURI))  \n",
    "g=  utils.to_rdf(g, gold_std_mapped_df, column_types, 'http://bio2rdf.org/drugbank:Drug' )\n"
   ]
  },
  {
   "cell_type": "code",
   "execution_count": 13,
   "metadata": {},
   "outputs": [],
   "source": [
    "g.serialize('data/rdf/predict_gold_standard_omim.nq', format='nquads')"
   ]
  },
  {
   "cell_type": "code",
   "execution_count": 14,
   "metadata": {},
   "outputs": [],
   "source": [
    "def addMetaData(g, graphURI):\n",
    "    #generate dataset\n",
    "    data_source = Dataset(qname=graphURI, graph = g)\n",
    "    data_source.setURI(graphURI)\n",
    "    data_source.setTitle('Supplementary data used in the PREDICT')\n",
    "    data_source.setDescription('Drug indications gold standard and mappings used in the study of \"PREDICT: a method for inferring novel drug indications with application to personalized medicine\" ')\n",
    "    data_source.setPublisher('https://www.embopress.org/journal/17444292')\n",
    "    data_source.setPublisherName('Molecular Systems Biology')\n",
    "    data_source.addRight('use-share-modify')\n",
    "    data_source.addTheme('http://www.wikidata.org/entity/Q56863002')\n",
    "    data_source.setLicense('https://www.embopress.org/page/journal/17444292/about')\n",
    "    data_source.setHomepage('https://dx.doi.org/10.1038%2Fmsb.2011.26')\n",
    "    data_source.setVersion('1.0')\n",
    "\n",
    "\n",
    "    #generate dataset distribution\n",
    "    data_dist1 = DataResource(qname=graphURI, graph = data_source.toRDF())\n",
    "    data_dist1.setURI('http:/w3id.org/fairworkflows/dataset.openpredict.mapping/version/1/source')\n",
    "    data_dist1.setTitle('Mapping between OMIM diseases and UMLS concepts used in the PREDICT study (msb201126-s4.xls)')\n",
    "    data_dist1.setDescription('This file contains the mappings between OMIM diseases and UMLS concepts used in the PREDICT study')\n",
    "    data_dist1.setLicense('https://creativecommons.org/publicdomain/zero/1.0/')\n",
    "    data_dist1.setVersion('1.0')\n",
    "    data_dist1.setFormat('application/vnd.ms-excel')\n",
    "    data_dist1.setMediaType('application/vnd.ms-excel')\n",
    "    data_dist1.setPublisher('https://www.embopress.org/journal/17444292')\n",
    "    data_dist1.addRight('use-share-modify')\n",
    "    data_dist1.setDownloadURL('https://www.ncbi.nlm.nih.gov/pmc/articles/PMC3159979/bin/msb201126-s4.xls')\n",
    "    data_dist1.setRetrievedDate(datetime.datetime.now().strftime(\"%Y-%m-%d %H:%M:%S\"))\n",
    "    data_dist1.setDataset(data_source.getURI())\n",
    "    \n",
    "    \n",
    "    #generate dataset distribution\n",
    "    data_dist2 = DataResource(qname=graphURI, graph = data_dist1.toRDF())\n",
    "    data_dist2.setURI('http:/w3id.org/fairworkflows/dataset.openpredict.indications/version/1/source')\n",
    "    data_dist2.setTitle('Drug indications gold standard used in the PREDICT study (msb201126-s1.xls)')\n",
    "    data_dist2.setDescription('This file contains the gold standard drug indications used in the PREDICT study')\n",
    "    data_dist2.setLicense('https://creativecommons.org/publicdomain/zero/1.0/')\n",
    "    data_dist2.setVersion('1.0')\n",
    "    data_dist2.setFormat('application/vnd.ms-excel')\n",
    "    data_dist2.setMediaType('application/vnd.ms-excel')\n",
    "    data_dist2.setPublisher('https://www.embopress.org/journal/17444292')\n",
    "    data_dist2.addRight('use-share-modify')\n",
    "    data_dist2.setDownloadURL('https://www.ncbi.nlm.nih.gov/pmc/articles/PMC3159979/bin/msb201126-s1.xls')\n",
    "    data_dist2.setRetrievedDate(datetime.datetime.now().strftime(\"%Y-%m-%d %H:%M:%S\"))\n",
    "    data_dist2.setDataset(data_source.getURI())\n",
    "     \n",
    "\n",
    "    #generate RDF data distrubtion\n",
    "    rdf_dist = DataResource(qname=graphURI, graph = data_dist2.toRDF() )\n",
    "    rdf_dist.setURI('http:/w3id.org/fairworkflows/dataset.openpredict.indications/version/1/rdf/data')\n",
    "    rdf_dist.setTitle('RDF version of PREDICT drug indication gold standard')\n",
    "    rdf_dist.setDescription('This file is the RDF version of PREDICT drug indication gold standard')\n",
    "    rdf_dist.setLicense('http://creativecommons.org/licenses/by/3.0/')\n",
    "    rdf_dist.setVersion('1.0')\n",
    "    rdf_dist.setFormat('application/n-quads')\n",
    "    rdf_dist.setMediaType('application/n-quads')\n",
    "    rdf_dist.addRight('use-share-modify')\n",
    "    rdf_dist.addRight('by-attribution')\n",
    "    rdf_dist.addRight('restricted-by-source-license')\n",
    "    rdf_dist.setCreateDate(datetime.datetime.now().strftime(\"%Y-%m-%d %H:%M:%S\"))\n",
    "    rdf_dist.setCreator('https://github.com/fair-workflows/openpredict/src/MappingPREDICTGoldstandard.py')\n",
    "    rdf_dist.setDownloadURL('https://github.com/fair-workflows/openpredict/known_associations/predict-gold-standard-omim.nq.gz')\n",
    "    rdf_dist.setDataset(data_dist2.getURI())\n",
    "    rdf_dist.addSource('https://www.ncbi.nlm.nih.gov/pmc/articles/PMC3159979/bin/msb201126-s1.xls')\n",
    "    rdf_dist.addSource('https://www.ncbi.nlm.nih.gov/pmc/articles/PMC3159979/bin/msb201126-s4.xls')\n",
    "      \n",
    "    return rdf_dist.toRDF()\n",
    "\n"
   ]
  },
  {
   "cell_type": "code",
   "execution_count": 15,
   "metadata": {},
   "outputs": [],
   "source": [
    "g = ConjunctiveGraph(identifier = graphURI) \n",
    "g= addMetaData(g, graphURI)\n"
   ]
  },
  {
   "cell_type": "code",
   "execution_count": 16,
   "metadata": {},
   "outputs": [
    {
     "name": "stdout",
     "output_type": "stream",
     "text": [
      "RDF is generated at data/rdf/predict_gold_standard_omim_metadata.nq\n"
     ]
    }
   ],
   "source": [
    "outfile ='data/rdf/predict_gold_standard_omim_metadata.nq'\n",
    "g.serialize(outfile, format='nquads')\n",
    "print('RDF is generated at '+outfile)"
   ]
  },
  {
   "cell_type": "code",
   "execution_count": null,
   "metadata": {},
   "outputs": [],
   "source": []
  }
 ],
 "metadata": {
  "kernelspec": {
   "display_name": "Python 3",
   "language": "python",
   "name": "python3"
  },
  "language_info": {
   "codemirror_mode": {
    "name": "ipython",
    "version": 3
   },
   "file_extension": ".py",
   "mimetype": "text/x-python",
   "name": "python",
   "nbconvert_exporter": "python",
   "pygments_lexer": "ipython3",
   "version": "3.7.3"
  }
 },
 "nbformat": 4,
 "nbformat_minor": 2
}
