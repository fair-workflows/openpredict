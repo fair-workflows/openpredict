{
 "cells": [
  {
   "cell_type": "code",
   "execution_count": 18,
   "metadata": {},
   "outputs": [],
   "source": [
    "import random\n",
    "import numpy as np\n",
    "from sklearn import model_selection\n",
    "from sklearn.model_selection import GroupKFold\n",
    "import pandas as pd\n",
    "import math\n",
    "import time\n",
    "import os\n"
   ]
  },
  {
   "cell_type": "code",
   "execution_count": null,
   "metadata": {},
   "outputs": [],
   "source": [
    "from rdflib import Graph, URIRef, Literal, RDF, ConjunctiveGraph, Namespace"
   ]
  },
  {
   "cell_type": "markdown",
   "metadata": {},
   "source": [
    "# Get the features and gold standard "
   ]
  },
  {
   "cell_type": "code",
   "execution_count": 19,
   "metadata": {},
   "outputs": [],
   "source": [
    "drugfeatfiles = ['drugs-fingerprint-sim.csv','drugs-se-sim.csv', \n",
    "                     'drugs-ppi-sim.csv', 'drugs-target-go-sim.csv','drugs-target-seq-sim.csv']\n",
    "diseasefeatfiles =['diseases-hpo-sim.csv',  'diseases-pheno-sim.csv' ]\n",
    "\n"
   ]
  },
  {
   "cell_type": "code",
   "execution_count": 20,
   "metadata": {},
   "outputs": [],
   "source": [
    "feature_folder=\"data/features/\""
   ]
  },
  {
   "cell_type": "code",
   "execution_count": 21,
   "metadata": {},
   "outputs": [],
   "source": [
    "drugfeatfiles = [ os.path.join(feature_folder, fn) for fn in drugfeatfiles]\n",
    "diseasefeatfiles = [ os.path.join(feature_folder, fn) for fn in diseasefeatfiles]"
   ]
  },
  {
   "cell_type": "code",
   "execution_count": 23,
   "metadata": {},
   "outputs": [
    {
     "data": {
      "text/html": [
       "<div>\n",
       "<style scoped>\n",
       "    .dataframe tbody tr th:only-of-type {\n",
       "        vertical-align: middle;\n",
       "    }\n",
       "\n",
       "    .dataframe tbody tr th {\n",
       "        vertical-align: top;\n",
       "    }\n",
       "\n",
       "    .dataframe thead th {\n",
       "        text-align: right;\n",
       "    }\n",
       "</style>\n",
       "<table border=\"1\" class=\"dataframe\">\n",
       "  <thead>\n",
       "    <tr style=\"text-align: right;\">\n",
       "      <th></th>\n",
       "      <th>drugid</th>\n",
       "      <th>omimid</th>\n",
       "    </tr>\n",
       "  </thead>\n",
       "  <tbody>\n",
       "    <tr>\n",
       "      <th>0</th>\n",
       "      <td>DB01148</td>\n",
       "      <td>231200</td>\n",
       "    </tr>\n",
       "    <tr>\n",
       "      <th>1</th>\n",
       "      <td>DB01148</td>\n",
       "      <td>155100</td>\n",
       "    </tr>\n",
       "    <tr>\n",
       "      <th>2</th>\n",
       "      <td>DB01148</td>\n",
       "      <td>273800</td>\n",
       "    </tr>\n",
       "    <tr>\n",
       "      <th>3</th>\n",
       "      <td>DB00575</td>\n",
       "      <td>607554</td>\n",
       "    </tr>\n",
       "    <tr>\n",
       "      <th>4</th>\n",
       "      <td>DB00575</td>\n",
       "      <td>171300</td>\n",
       "    </tr>\n",
       "  </tbody>\n",
       "</table>\n",
       "</div>"
      ],
      "text/plain": [
       "    drugid  omimid\n",
       "0  DB01148  231200\n",
       "1  DB01148  155100\n",
       "2  DB01148  273800\n",
       "3  DB00575  607554\n",
       "4  DB00575  171300"
      ]
     },
     "execution_count": 23,
     "metadata": {},
     "output_type": "execute_result"
    }
   ],
   "source": [
    "#goldindfile = 'data/input/openpredict-omim-drug.csv'\n",
    "drug_ind=\"data/input/openpredict-omim-drug.csv\"\n",
    "drugDiseaseKnown = pd.read_csv(drug_ind,delimiter=',') \n",
    "drugDiseaseKnown.head()"
   ]
  },
  {
   "cell_type": "code",
   "execution_count": 24,
   "metadata": {},
   "outputs": [
    {
     "data": {
      "text/html": [
       "<div>\n",
       "<style scoped>\n",
       "    .dataframe tbody tr th:only-of-type {\n",
       "        vertical-align: middle;\n",
       "    }\n",
       "\n",
       "    .dataframe tbody tr th {\n",
       "        vertical-align: top;\n",
       "    }\n",
       "\n",
       "    .dataframe thead th {\n",
       "        text-align: right;\n",
       "    }\n",
       "</style>\n",
       "<table border=\"1\" class=\"dataframe\">\n",
       "  <thead>\n",
       "    <tr style=\"text-align: right;\">\n",
       "      <th></th>\n",
       "      <th>Drug</th>\n",
       "      <th>Disease</th>\n",
       "    </tr>\n",
       "  </thead>\n",
       "  <tbody>\n",
       "    <tr>\n",
       "      <th>0</th>\n",
       "      <td>DB01148</td>\n",
       "      <td>231200</td>\n",
       "    </tr>\n",
       "    <tr>\n",
       "      <th>1</th>\n",
       "      <td>DB01148</td>\n",
       "      <td>155100</td>\n",
       "    </tr>\n",
       "    <tr>\n",
       "      <th>2</th>\n",
       "      <td>DB01148</td>\n",
       "      <td>273800</td>\n",
       "    </tr>\n",
       "    <tr>\n",
       "      <th>3</th>\n",
       "      <td>DB00575</td>\n",
       "      <td>607554</td>\n",
       "    </tr>\n",
       "    <tr>\n",
       "      <th>4</th>\n",
       "      <td>DB00575</td>\n",
       "      <td>171300</td>\n",
       "    </tr>\n",
       "  </tbody>\n",
       "</table>\n",
       "</div>"
      ],
      "text/plain": [
       "      Drug Disease\n",
       "0  DB01148  231200\n",
       "1  DB01148  155100\n",
       "2  DB01148  273800\n",
       "3  DB00575  607554\n",
       "4  DB00575  171300"
      ]
     },
     "execution_count": 24,
     "metadata": {},
     "output_type": "execute_result"
    }
   ],
   "source": [
    "drugDiseaseKnown.rename(columns={'drugid':'Drug','omimid':'Disease'}, inplace=True)\n",
    "drugDiseaseKnown.Disease = drugDiseaseKnown.Disease.astype(str)\n",
    "drugDiseaseKnown.head()"
   ]
  },
  {
   "cell_type": "markdown",
   "metadata": {},
   "source": [
    "# Merge feature matrix"
   ]
  },
  {
   "cell_type": "code",
   "execution_count": 25,
   "metadata": {},
   "outputs": [],
   "source": [
    "def adjcencydict2matrix(df, name1, name2):\n",
    "    df1 = df.copy()\n",
    "    df1= df1.rename(index=str, columns={name1: name2, name2: name1})\n",
    "    print (len(df))\n",
    "    df =df.append(df1)\n",
    "    print (len(df))\n",
    "    return df.pivot(index=name1, columns=name2)\n",
    "\n",
    "def mergeFeatureMatrix(drugfeatfiles, diseasefeatfiles):\n",
    "    for i,featureFilename in enumerate(drugfeatfiles):\n",
    "        print (featureFilename)\n",
    "        df = pd.read_csv(featureFilename, delimiter=',')\n",
    "        cond = df.Drug1 > df.Drug2\n",
    "        df.loc[cond, ['Drug1', 'Drug2']] = df.loc[cond, ['Drug2', 'Drug1']].values\n",
    "        if i != 0:\n",
    "            drug_df=drug_df.merge(df,on=['Drug1','Drug2'],how='inner')\n",
    "            #drug_df=drug_df.merge(temp,how='outer',on='Drug')\n",
    "        else:\n",
    "            drug_df =df\n",
    "    drug_df.fillna(0, inplace=True)\n",
    "    \n",
    "    drug_df = adjcencydict2matrix(drug_df, 'Drug1', 'Drug2')\n",
    "    drug_df = drug_df.fillna(1.0)\n",
    "\n",
    "    \n",
    "    for i,featureFilename in enumerate(diseasefeatfiles):\n",
    "        print (featureFilename)\n",
    "        df=pd.read_csv(featureFilename, delimiter=',')\n",
    "        cond = df.Disease1 > df.Disease2\n",
    "        df.loc[cond, ['Disease1','Disease2']] = df.loc[cond, ['Disease2','Disease1']].values\n",
    "        if i != 0:\n",
    "            disease_df = disease_df.merge(df,on=['Disease1','Disease2'], how='inner')\n",
    "            #drug_df=drug_df.merge(temp,how='outer',on='Drug')\n",
    "        else:\n",
    "            disease_df = df\n",
    "    disease_df.fillna(0, inplace=True)\n",
    "    disease_df.Disease1 = disease_df.Disease1.astype(str)\n",
    "    disease_df.Disease2 = disease_df.Disease2.astype(str)\n",
    "    \n",
    "    disease_df = adjcencydict2matrix(disease_df, 'Disease1', 'Disease2')\n",
    "    disease_df = disease_df.fillna(1.0)\n",
    "    \n",
    "    return drug_df, disease_df"
   ]
  },
  {
   "cell_type": "code",
   "execution_count": 26,
   "metadata": {},
   "outputs": [
    {
     "name": "stdout",
     "output_type": "stream",
     "text": [
      "data/features/drugs-fingerprint-sim.csv\n",
      "data/features/drugs-se-sim.csv\n",
      "data/features/drugs-ppi-sim.csv\n",
      "data/features/drugs-target-go-sim.csv\n",
      "data/features/drugs-target-seq-sim.csv\n",
      "129795\n",
      "259590\n"
     ]
    },
    {
     "name": "stderr",
     "output_type": "stream",
     "text": [
      "/var/folders/n0/wfv9tgj96fg1rw1kvy3tmls80000gn/T/ipykernel_7458/3061590088.py:5: FutureWarning: The frame.append method is deprecated and will be removed from pandas in a future version. Use pandas.concat instead.\n",
      "  df =df.append(df1)\n"
     ]
    },
    {
     "name": "stdout",
     "output_type": "stream",
     "text": [
      "data/features/diseases-hpo-sim.csv\n",
      "data/features/diseases-pheno-sim.csv\n",
      "44850\n",
      "89700\n"
     ]
    },
    {
     "name": "stderr",
     "output_type": "stream",
     "text": [
      "/var/folders/n0/wfv9tgj96fg1rw1kvy3tmls80000gn/T/ipykernel_7458/3061590088.py:5: FutureWarning: The frame.append method is deprecated and will be removed from pandas in a future version. Use pandas.concat instead.\n",
      "  df =df.append(df1)\n"
     ]
    }
   ],
   "source": [
    "drug_df, disease_df = mergeFeatureMatrix(drugfeatfiles, diseasefeatfiles)"
   ]
  },
  {
   "cell_type": "code",
   "execution_count": 27,
   "metadata": {},
   "outputs": [
    {
     "data": {
      "text/html": [
       "<div>\n",
       "<style scoped>\n",
       "    .dataframe tbody tr th:only-of-type {\n",
       "        vertical-align: middle;\n",
       "    }\n",
       "\n",
       "    .dataframe tbody tr th {\n",
       "        vertical-align: top;\n",
       "    }\n",
       "\n",
       "    .dataframe thead tr th {\n",
       "        text-align: left;\n",
       "    }\n",
       "\n",
       "    .dataframe thead tr:last-of-type th {\n",
       "        text-align: right;\n",
       "    }\n",
       "</style>\n",
       "<table border=\"1\" class=\"dataframe\">\n",
       "  <thead>\n",
       "    <tr>\n",
       "      <th></th>\n",
       "      <th colspan=\"10\" halign=\"left\">TC</th>\n",
       "      <th>...</th>\n",
       "      <th colspan=\"10\" halign=\"left\">TARGETSEQ-SIM</th>\n",
       "    </tr>\n",
       "    <tr>\n",
       "      <th>Drug2</th>\n",
       "      <th>DB00014</th>\n",
       "      <th>DB00035</th>\n",
       "      <th>DB00091</th>\n",
       "      <th>DB00104</th>\n",
       "      <th>DB00122</th>\n",
       "      <th>DB00125</th>\n",
       "      <th>DB00136</th>\n",
       "      <th>DB00153</th>\n",
       "      <th>DB00162</th>\n",
       "      <th>DB00165</th>\n",
       "      <th>...</th>\n",
       "      <th>DB01576</th>\n",
       "      <th>DB01577</th>\n",
       "      <th>DB01579</th>\n",
       "      <th>DB01590</th>\n",
       "      <th>DB01623</th>\n",
       "      <th>DB02546</th>\n",
       "      <th>DB04272</th>\n",
       "      <th>DB04844</th>\n",
       "      <th>DB04861</th>\n",
       "      <th>DB06287</th>\n",
       "    </tr>\n",
       "    <tr>\n",
       "      <th>Drug1</th>\n",
       "      <th></th>\n",
       "      <th></th>\n",
       "      <th></th>\n",
       "      <th></th>\n",
       "      <th></th>\n",
       "      <th></th>\n",
       "      <th></th>\n",
       "      <th></th>\n",
       "      <th></th>\n",
       "      <th></th>\n",
       "      <th></th>\n",
       "      <th></th>\n",
       "      <th></th>\n",
       "      <th></th>\n",
       "      <th></th>\n",
       "      <th></th>\n",
       "      <th></th>\n",
       "      <th></th>\n",
       "      <th></th>\n",
       "      <th></th>\n",
       "      <th></th>\n",
       "    </tr>\n",
       "  </thead>\n",
       "  <tbody>\n",
       "    <tr>\n",
       "      <th>DB00014</th>\n",
       "      <td>1.000000</td>\n",
       "      <td>0.732558</td>\n",
       "      <td>0.574713</td>\n",
       "      <td>0.655172</td>\n",
       "      <td>0.313953</td>\n",
       "      <td>0.361446</td>\n",
       "      <td>0.402299</td>\n",
       "      <td>0.321839</td>\n",
       "      <td>0.244186</td>\n",
       "      <td>0.376471</td>\n",
       "      <td>...</td>\n",
       "      <td>0.076672</td>\n",
       "      <td>0.148647</td>\n",
       "      <td>0.039052</td>\n",
       "      <td>0.028215</td>\n",
       "      <td>0.081568</td>\n",
       "      <td>0.043257</td>\n",
       "      <td>0.053699</td>\n",
       "      <td>0.053920</td>\n",
       "      <td>0.113543</td>\n",
       "      <td>0.028215</td>\n",
       "    </tr>\n",
       "    <tr>\n",
       "      <th>DB00035</th>\n",
       "      <td>0.732558</td>\n",
       "      <td>1.000000</td>\n",
       "      <td>0.544304</td>\n",
       "      <td>0.697368</td>\n",
       "      <td>0.240506</td>\n",
       "      <td>0.441176</td>\n",
       "      <td>0.289157</td>\n",
       "      <td>0.219512</td>\n",
       "      <td>0.150000</td>\n",
       "      <td>0.378378</td>\n",
       "      <td>...</td>\n",
       "      <td>0.024000</td>\n",
       "      <td>0.030028</td>\n",
       "      <td>0.023312</td>\n",
       "      <td>0.043115</td>\n",
       "      <td>0.023471</td>\n",
       "      <td>0.033298</td>\n",
       "      <td>0.031706</td>\n",
       "      <td>0.024000</td>\n",
       "      <td>0.021341</td>\n",
       "      <td>0.043115</td>\n",
       "    </tr>\n",
       "    <tr>\n",
       "      <th>DB00091</th>\n",
       "      <td>0.574713</td>\n",
       "      <td>0.544304</td>\n",
       "      <td>1.000000</td>\n",
       "      <td>0.539474</td>\n",
       "      <td>0.365079</td>\n",
       "      <td>0.303030</td>\n",
       "      <td>0.397059</td>\n",
       "      <td>0.294118</td>\n",
       "      <td>0.250000</td>\n",
       "      <td>0.384615</td>\n",
       "      <td>...</td>\n",
       "      <td>0.039643</td>\n",
       "      <td>0.045992</td>\n",
       "      <td>0.036710</td>\n",
       "      <td>0.016369</td>\n",
       "      <td>0.031936</td>\n",
       "      <td>0.059601</td>\n",
       "      <td>0.073739</td>\n",
       "      <td>0.039643</td>\n",
       "      <td>0.047390</td>\n",
       "      <td>0.016369</td>\n",
       "    </tr>\n",
       "    <tr>\n",
       "      <th>DB00104</th>\n",
       "      <td>0.655172</td>\n",
       "      <td>0.697368</td>\n",
       "      <td>0.539474</td>\n",
       "      <td>1.000000</td>\n",
       "      <td>0.256757</td>\n",
       "      <td>0.347826</td>\n",
       "      <td>0.378378</td>\n",
       "      <td>0.283784</td>\n",
       "      <td>0.208333</td>\n",
       "      <td>0.469697</td>\n",
       "      <td>...</td>\n",
       "      <td>0.178035</td>\n",
       "      <td>0.180648</td>\n",
       "      <td>0.048190</td>\n",
       "      <td>0.015979</td>\n",
       "      <td>0.172655</td>\n",
       "      <td>0.040032</td>\n",
       "      <td>0.052726</td>\n",
       "      <td>0.054976</td>\n",
       "      <td>0.188184</td>\n",
       "      <td>0.019203</td>\n",
       "    </tr>\n",
       "    <tr>\n",
       "      <th>DB00122</th>\n",
       "      <td>0.313953</td>\n",
       "      <td>0.240506</td>\n",
       "      <td>0.365079</td>\n",
       "      <td>0.256757</td>\n",
       "      <td>1.000000</td>\n",
       "      <td>0.291667</td>\n",
       "      <td>0.267857</td>\n",
       "      <td>0.280000</td>\n",
       "      <td>0.400000</td>\n",
       "      <td>0.200000</td>\n",
       "      <td>...</td>\n",
       "      <td>0.040534</td>\n",
       "      <td>0.040534</td>\n",
       "      <td>0.041460</td>\n",
       "      <td>0.027075</td>\n",
       "      <td>0.033040</td>\n",
       "      <td>0.050565</td>\n",
       "      <td>0.065972</td>\n",
       "      <td>0.036566</td>\n",
       "      <td>0.042961</td>\n",
       "      <td>0.035405</td>\n",
       "    </tr>\n",
       "  </tbody>\n",
       "</table>\n",
       "<p>5 rows × 3060 columns</p>\n",
       "</div>"
      ],
      "text/plain": [
       "               TC                                                              \\\n",
       "Drug2     DB00014   DB00035   DB00091   DB00104   DB00122   DB00125   DB00136   \n",
       "Drug1                                                                           \n",
       "DB00014  1.000000  0.732558  0.574713  0.655172  0.313953  0.361446  0.402299   \n",
       "DB00035  0.732558  1.000000  0.544304  0.697368  0.240506  0.441176  0.289157   \n",
       "DB00091  0.574713  0.544304  1.000000  0.539474  0.365079  0.303030  0.397059   \n",
       "DB00104  0.655172  0.697368  0.539474  1.000000  0.256757  0.347826  0.378378   \n",
       "DB00122  0.313953  0.240506  0.365079  0.256757  1.000000  0.291667  0.267857   \n",
       "\n",
       "                                       ... TARGETSEQ-SIM                      \\\n",
       "Drug2     DB00153   DB00162   DB00165  ...       DB01576   DB01577   DB01579   \n",
       "Drug1                                  ...                                     \n",
       "DB00014  0.321839  0.244186  0.376471  ...      0.076672  0.148647  0.039052   \n",
       "DB00035  0.219512  0.150000  0.378378  ...      0.024000  0.030028  0.023312   \n",
       "DB00091  0.294118  0.250000  0.384615  ...      0.039643  0.045992  0.036710   \n",
       "DB00104  0.283784  0.208333  0.469697  ...      0.178035  0.180648  0.048190   \n",
       "DB00122  0.280000  0.400000  0.200000  ...      0.040534  0.040534  0.041460   \n",
       "\n",
       "                                                                               \n",
       "Drug2     DB01590   DB01623   DB02546   DB04272   DB04844   DB04861   DB06287  \n",
       "Drug1                                                                          \n",
       "DB00014  0.028215  0.081568  0.043257  0.053699  0.053920  0.113543  0.028215  \n",
       "DB00035  0.043115  0.023471  0.033298  0.031706  0.024000  0.021341  0.043115  \n",
       "DB00091  0.016369  0.031936  0.059601  0.073739  0.039643  0.047390  0.016369  \n",
       "DB00104  0.015979  0.172655  0.040032  0.052726  0.054976  0.188184  0.019203  \n",
       "DB00122  0.027075  0.033040  0.050565  0.065972  0.036566  0.042961  0.035405  \n",
       "\n",
       "[5 rows x 3060 columns]"
      ]
     },
     "execution_count": 27,
     "metadata": {},
     "output_type": "execute_result"
    }
   ],
   "source": [
    "drug_df.head()"
   ]
  },
  {
   "cell_type": "code",
   "execution_count": 28,
   "metadata": {},
   "outputs": [
    {
     "data": {
      "text/html": [
       "<div>\n",
       "<style scoped>\n",
       "    .dataframe tbody tr th:only-of-type {\n",
       "        vertical-align: middle;\n",
       "    }\n",
       "\n",
       "    .dataframe tbody tr th {\n",
       "        vertical-align: top;\n",
       "    }\n",
       "\n",
       "    .dataframe thead tr th {\n",
       "        text-align: left;\n",
       "    }\n",
       "\n",
       "    .dataframe thead tr:last-of-type th {\n",
       "        text-align: right;\n",
       "    }\n",
       "</style>\n",
       "<table border=\"1\" class=\"dataframe\">\n",
       "  <thead>\n",
       "    <tr>\n",
       "      <th></th>\n",
       "      <th colspan=\"10\" halign=\"left\">HPO-SIM</th>\n",
       "      <th>...</th>\n",
       "      <th colspan=\"10\" halign=\"left\">PHENO-SIM</th>\n",
       "    </tr>\n",
       "    <tr>\n",
       "      <th>Disease2</th>\n",
       "      <th>102100</th>\n",
       "      <th>102300</th>\n",
       "      <th>102400</th>\n",
       "      <th>102500</th>\n",
       "      <th>103100</th>\n",
       "      <th>103780</th>\n",
       "      <th>104130</th>\n",
       "      <th>104300</th>\n",
       "      <th>106400</th>\n",
       "      <th>107320</th>\n",
       "      <th>...</th>\n",
       "      <th>607682</th>\n",
       "      <th>607685</th>\n",
       "      <th>607850</th>\n",
       "      <th>608033</th>\n",
       "      <th>608088</th>\n",
       "      <th>608105</th>\n",
       "      <th>608217</th>\n",
       "      <th>608320</th>\n",
       "      <th>608583</th>\n",
       "      <th>608622</th>\n",
       "    </tr>\n",
       "    <tr>\n",
       "      <th>Disease1</th>\n",
       "      <th></th>\n",
       "      <th></th>\n",
       "      <th></th>\n",
       "      <th></th>\n",
       "      <th></th>\n",
       "      <th></th>\n",
       "      <th></th>\n",
       "      <th></th>\n",
       "      <th></th>\n",
       "      <th></th>\n",
       "      <th></th>\n",
       "      <th></th>\n",
       "      <th></th>\n",
       "      <th></th>\n",
       "      <th></th>\n",
       "      <th></th>\n",
       "      <th></th>\n",
       "      <th></th>\n",
       "      <th></th>\n",
       "      <th></th>\n",
       "      <th></th>\n",
       "    </tr>\n",
       "  </thead>\n",
       "  <tbody>\n",
       "    <tr>\n",
       "      <th>102100</th>\n",
       "      <td>1.000000</td>\n",
       "      <td>0.228439</td>\n",
       "      <td>0.420190</td>\n",
       "      <td>0.432394</td>\n",
       "      <td>0.365865</td>\n",
       "      <td>0.091080</td>\n",
       "      <td>0.312120</td>\n",
       "      <td>0.210254</td>\n",
       "      <td>0.516519</td>\n",
       "      <td>0.341580</td>\n",
       "      <td>...</td>\n",
       "      <td>0.050063</td>\n",
       "      <td>0.067166</td>\n",
       "      <td>0.132453</td>\n",
       "      <td>0.102598</td>\n",
       "      <td>0.216295</td>\n",
       "      <td>0.108148</td>\n",
       "      <td>0.132453</td>\n",
       "      <td>0.135302</td>\n",
       "      <td>0.155113</td>\n",
       "      <td>0.183942</td>\n",
       "    </tr>\n",
       "    <tr>\n",
       "      <th>102300</th>\n",
       "      <td>0.228439</td>\n",
       "      <td>1.000000</td>\n",
       "      <td>0.291239</td>\n",
       "      <td>0.257371</td>\n",
       "      <td>0.480403</td>\n",
       "      <td>0.427043</td>\n",
       "      <td>0.425632</td>\n",
       "      <td>0.510889</td>\n",
       "      <td>0.326918</td>\n",
       "      <td>0.204134</td>\n",
       "      <td>...</td>\n",
       "      <td>0.084685</td>\n",
       "      <td>0.121191</td>\n",
       "      <td>0.179244</td>\n",
       "      <td>0.277684</td>\n",
       "      <td>0.182940</td>\n",
       "      <td>0.146352</td>\n",
       "      <td>0.089622</td>\n",
       "      <td>0.183099</td>\n",
       "      <td>0.236148</td>\n",
       "      <td>0.124461</td>\n",
       "    </tr>\n",
       "    <tr>\n",
       "      <th>102400</th>\n",
       "      <td>0.420190</td>\n",
       "      <td>0.291239</td>\n",
       "      <td>1.000000</td>\n",
       "      <td>0.464588</td>\n",
       "      <td>0.334854</td>\n",
       "      <td>0.083732</td>\n",
       "      <td>0.257330</td>\n",
       "      <td>0.273490</td>\n",
       "      <td>0.484795</td>\n",
       "      <td>0.210790</td>\n",
       "      <td>...</td>\n",
       "      <td>0.060523</td>\n",
       "      <td>0.054133</td>\n",
       "      <td>0.106752</td>\n",
       "      <td>0.082690</td>\n",
       "      <td>0.130744</td>\n",
       "      <td>0.130744</td>\n",
       "      <td>0.160128</td>\n",
       "      <td>0.081786</td>\n",
       "      <td>0.093761</td>\n",
       "      <td>0.148250</td>\n",
       "    </tr>\n",
       "    <tr>\n",
       "      <th>102500</th>\n",
       "      <td>0.432394</td>\n",
       "      <td>0.257371</td>\n",
       "      <td>0.464588</td>\n",
       "      <td>1.000000</td>\n",
       "      <td>0.266952</td>\n",
       "      <td>0.221382</td>\n",
       "      <td>0.427080</td>\n",
       "      <td>0.263057</td>\n",
       "      <td>0.439328</td>\n",
       "      <td>0.184396</td>\n",
       "      <td>...</td>\n",
       "      <td>0.123718</td>\n",
       "      <td>0.092214</td>\n",
       "      <td>0.072739</td>\n",
       "      <td>0.197203</td>\n",
       "      <td>0.089087</td>\n",
       "      <td>0.111359</td>\n",
       "      <td>0.163663</td>\n",
       "      <td>0.153252</td>\n",
       "      <td>0.127775</td>\n",
       "      <td>0.101015</td>\n",
       "    </tr>\n",
       "    <tr>\n",
       "      <th>103100</th>\n",
       "      <td>0.365865</td>\n",
       "      <td>0.480403</td>\n",
       "      <td>0.334854</td>\n",
       "      <td>0.266952</td>\n",
       "      <td>1.000000</td>\n",
       "      <td>0.322904</td>\n",
       "      <td>0.426191</td>\n",
       "      <td>0.459806</td>\n",
       "      <td>0.370533</td>\n",
       "      <td>0.453242</td>\n",
       "      <td>...</td>\n",
       "      <td>0.109109</td>\n",
       "      <td>0.081325</td>\n",
       "      <td>0.128300</td>\n",
       "      <td>0.099381</td>\n",
       "      <td>0.157135</td>\n",
       "      <td>0.117851</td>\n",
       "      <td>0.096225</td>\n",
       "      <td>0.172016</td>\n",
       "      <td>0.140859</td>\n",
       "      <td>0.222718</td>\n",
       "    </tr>\n",
       "  </tbody>\n",
       "</table>\n",
       "<p>5 rows × 900 columns</p>\n",
       "</div>"
      ],
      "text/plain": [
       "           HPO-SIM                                                    \\\n",
       "Disease2    102100    102300    102400    102500    103100    103780   \n",
       "Disease1                                                               \n",
       "102100    1.000000  0.228439  0.420190  0.432394  0.365865  0.091080   \n",
       "102300    0.228439  1.000000  0.291239  0.257371  0.480403  0.427043   \n",
       "102400    0.420190  0.291239  1.000000  0.464588  0.334854  0.083732   \n",
       "102500    0.432394  0.257371  0.464588  1.000000  0.266952  0.221382   \n",
       "103100    0.365865  0.480403  0.334854  0.266952  1.000000  0.322904   \n",
       "\n",
       "                                                  ... PHENO-SIM            \\\n",
       "Disease2    104130    104300    106400    107320  ...    607682    607685   \n",
       "Disease1                                          ...                       \n",
       "102100    0.312120  0.210254  0.516519  0.341580  ...  0.050063  0.067166   \n",
       "102300    0.425632  0.510889  0.326918  0.204134  ...  0.084685  0.121191   \n",
       "102400    0.257330  0.273490  0.484795  0.210790  ...  0.060523  0.054133   \n",
       "102500    0.427080  0.263057  0.439328  0.184396  ...  0.123718  0.092214   \n",
       "103100    0.426191  0.459806  0.370533  0.453242  ...  0.109109  0.081325   \n",
       "\n",
       "                                                                      \\\n",
       "Disease2    607850    608033    608088    608105    608217    608320   \n",
       "Disease1                                                               \n",
       "102100    0.132453  0.102598  0.216295  0.108148  0.132453  0.135302   \n",
       "102300    0.179244  0.277684  0.182940  0.146352  0.089622  0.183099   \n",
       "102400    0.106752  0.082690  0.130744  0.130744  0.160128  0.081786   \n",
       "102500    0.072739  0.197203  0.089087  0.111359  0.163663  0.153252   \n",
       "103100    0.128300  0.099381  0.157135  0.117851  0.096225  0.172016   \n",
       "\n",
       "                              \n",
       "Disease2    608583    608622  \n",
       "Disease1                      \n",
       "102100    0.155113  0.183942  \n",
       "102300    0.236148  0.124461  \n",
       "102400    0.093761  0.148250  \n",
       "102500    0.127775  0.101015  \n",
       "103100    0.140859  0.222718  \n",
       "\n",
       "[5 rows x 900 columns]"
      ]
     },
     "execution_count": 28,
     "metadata": {},
     "output_type": "execute_result"
    }
   ],
   "source": [
    "disease_df.head()"
   ]
  },
  {
   "cell_type": "markdown",
   "metadata": {},
   "source": [
    "# Generate positive and negative pairs"
   ]
  },
  {
   "cell_type": "code",
   "execution_count": 30,
   "metadata": {},
   "outputs": [],
   "source": [
    "def generatePairs(drug_df, disease_df, drugDiseaseKnown):\n",
    "    drugwithfeatures = set(drug_df.columns.levels[1])\n",
    "    diseaseswithfeatures = set(disease_df.columns.levels[1])\n",
    "    \n",
    "    drugDiseaseDict  = set([tuple(x) for x in  drugDiseaseKnown[['Drug','Disease']].values])\n",
    "\n",
    "    commonDrugs= drugwithfeatures.intersection( drugDiseaseKnown.Drug.unique())\n",
    "    commonDiseases=  diseaseswithfeatures.intersection(drugDiseaseKnown.Disease.unique() )\n",
    "    print (\"commonDrugs: %d commonDiseases : %d\"%(len(commonDrugs),len(commonDiseases)))\n",
    "\n",
    "    #abridged_drug_disease = [(dr,di)  for  (dr,di)  in drugDiseaseDict if dr in drugwithfeatures and di in diseaseswithfeatures ]\n",
    "\n",
    "    #commonDrugs = set( [ dr  for dr,di in  abridged_drug_disease])\n",
    "    #commonDiseases  =set([ di  for dr,di in  abridged_drug_disease])\n",
    "\n",
    "    print (\"Gold standard, associations: %d drugs: %d diseases: %d\"%(len(drugDiseaseKnown),len(drugDiseaseKnown.Drug.unique()),len(drugDiseaseKnown.Disease.unique())))\n",
    "    print (\"Drugs with features: %d Diseases with features: %d\"%(len(drugwithfeatures),len(diseaseswithfeatures)))\n",
    "    print (\"commonDrugs: %d commonDiseases : %d\"%(len(commonDrugs),len(commonDiseases)))\n",
    "\n",
    "    pairs=[]\n",
    "    classes=[]\n",
    "    for dr in commonDrugs:\n",
    "        for di in commonDiseases:\n",
    "            cls = (1 if (dr,di) in drugDiseaseDict else 0)\n",
    "            pairs.append((dr,di))\n",
    "            classes.append(cls)\n",
    "            \n",
    "    return pairs, classes"
   ]
  },
  {
   "cell_type": "code",
   "execution_count": 31,
   "metadata": {},
   "outputs": [
    {
     "name": "stdout",
     "output_type": "stream",
     "text": [
      "commonDrugs: 510 commonDiseases : 300\n",
      "Gold standard, associations: 1933 drugs: 592 diseases: 313\n",
      "Drugs with features: 510 Diseases with features: 300\n",
      "commonDrugs: 510 commonDiseases : 300\n"
     ]
    }
   ],
   "source": [
    "pairs, classes = generatePairs(drug_df, disease_df, drugDiseaseKnown)"
   ]
  },
  {
   "cell_type": "markdown",
   "metadata": {},
   "source": [
    "# Balance negative samples/postives "
   ]
  },
  {
   "cell_type": "code",
   "execution_count": 32,
   "metadata": {},
   "outputs": [],
   "source": [
    "from sklearn.model_selection import GroupKFold\n",
    "from sklearn.model_selection import StratifiedKFold\n",
    "def balance_data(pairs, classes, n_proportion):\n",
    "    classes = np.array(classes)\n",
    "    pairs = np.array(pairs)\n",
    "    \n",
    "    indices_true = np.where(classes == 1)[0]\n",
    "    indices_false = np.where(classes == 0)[0]\n",
    "\n",
    "    np.random.shuffle(indices_false)\n",
    "    indices = indices_false[:(n_proportion*indices_true.shape[0])]\n",
    "    print (\"+/-:\", len(indices_true), len(indices), len(indices_false))\n",
    "    pairs = np.concatenate((pairs[indices_true], pairs[indices]), axis=0)\n",
    "    classes = np.concatenate((classes[indices_true], classes[indices]), axis=0) \n",
    "    \n",
    " \n",
    "    return pairs, classes"
   ]
  },
  {
   "cell_type": "code",
   "execution_count": 33,
   "metadata": {},
   "outputs": [
    {
     "name": "stdout",
     "output_type": "stream",
     "text": [
      "+/-: 1671 3342 151329\n"
     ]
    }
   ],
   "source": [
    "n_proportion = 2\n",
    "pairs, classes= balance_data(pairs, classes, n_proportion)"
   ]
  },
  {
   "cell_type": "markdown",
   "metadata": {},
   "source": [
    "# Train-Test Splitting"
   ]
  },
  {
   "cell_type": "code",
   "execution_count": 34,
   "metadata": {},
   "outputs": [],
   "source": [
    "pairs_train, pairs_test, classes_train, classes_test = model_selection.train_test_split(pairs, classes, stratify=classes, test_size=0.2, shuffle=True)"
   ]
  },
  {
   "cell_type": "code",
   "execution_count": 36,
   "metadata": {},
   "outputs": [
    {
     "data": {
      "text/plain": [
       "(4010, 1003)"
      ]
     },
     "execution_count": 36,
     "metadata": {},
     "output_type": "execute_result"
    }
   ],
   "source": [
    "len(pairs_train), len(pairs_test)"
   ]
  },
  {
   "cell_type": "markdown",
   "metadata": {},
   "source": [
    "# Feature extraction (Best Single Feature Similarity)"
   ]
  },
  {
   "cell_type": "code",
   "execution_count": 38,
   "metadata": {},
   "outputs": [],
   "source": [
    "\n",
    "def calculateDrugMaxMean(drug, disease, knownDrugDisease, drugDF):\n",
    "    #print (drug, disease)\n",
    "    \n",
    "    # get only diseases related to this drug\n",
    "    filteredDrugs=knownDrugDisease[knownDrugDisease[:,1]==disease,0]\n",
    "    similarities  = drugDF.loc[filteredDrugs][drug].values\n",
    "    similarities2= np.where(similarities==1.0,0.0,similarities)\n",
    "    #knownDrugDisease[knownDrugDisease[:,1]==disease,0]\n",
    "    #c=np.where(a==1.0,0.0,a)\n",
    "    try:\n",
    "        maxSimilarity=float(np.max(similarities2))\n",
    "    except :\n",
    "        maxSimilarity=0.0         \n",
    "        \n",
    "    return maxSimilarity\n",
    "\n",
    "\n",
    "def calculateDiseaseMaxMean(drug, disease, knownDrugDisease, diseaseDF):\n",
    "    #print (drug, disease)\n",
    "    b  = diseaseDF.loc[knownDrugDisease[:,1]][disease].values\n",
    "    #b= np.sqrt( np.multiply(b,b) ) #remove negative values\n",
    "    \n",
    "    c=np.where(b==1.0,0.0,b)\n",
    "    return float(np.max(c))\n",
    " \n",
    "\n",
    "\n",
    "def createSingleFeatureDF(pairs, classes, knownDrugDisease, drugDFs, diseaseDFs):\n",
    "    totalNumFeatures = len(drugDFs)*len(diseaseDFs)\n",
    "    #featureMatri x= np.empty((len(classes),totalNumFeatures), float)\n",
    "    df =pd.DataFrame(list(zip(pairs[:,0], pairs[:,1], classes)), columns =['Drug','Disease','Class'])\n",
    "    index = 0\n",
    "    for i,drug_col in enumerate(drugDFs.columns.levels[0]):\n",
    "        drugDF = drugDFs[drug_col]\n",
    "        df[\"Feature_\"+str(drug_col)] = df.apply(lambda row: calculateDrugMaxMean( row.Drug, row.Disease, knownDrugDisease, drugDF), axis=1)\n",
    "        \n",
    "    for j,disease_col in enumerate(diseaseDFs.columns.levels[0]):\n",
    "        diseaseDF = diseaseDFs[disease_col]\n",
    "        df[\"Feature_\"+str(disease_col)] = df.apply(lambda row: calculateDiseaseMaxMean( row.Drug, row.Disease, knownDrugDisease, diseaseDF), axis=1)\n",
    "    return df\n",
    "\n",
    "\n",
    "def calculateSingleSimilarity(pairs_train, pairs_test, classes_train, classes_test, drug_df, disease_df, knownDrugDisease):\n",
    "    train_df  = createSingleFeatureDF(pairs_train, classes_train, knownDrugDisease, drug_df, disease_df)\n",
    "    test_df = createSingleFeatureDF(pairs_test, classes_test, knownDrugDisease, drug_df, disease_df)\n",
    "    return train_df, test_df\n"
   ]
  },
  {
   "cell_type": "code",
   "execution_count": 39,
   "metadata": {},
   "outputs": [],
   "source": [
    "knownDrugDisease= pairs_train[classes_train==1]\n",
    "\n",
    "train_df, test_df = calculateSingleSimilarity(pairs_train, pairs_test, classes_train, classes_test, drug_df, disease_df, knownDrugDisease)\n"
   ]
  },
  {
   "cell_type": "markdown",
   "metadata": {},
   "source": [
    "# Model Training"
   ]
  },
  {
   "cell_type": "code",
   "execution_count": 40,
   "metadata": {},
   "outputs": [],
   "source": [
    "from sklearn import tree, ensemble\n",
    "from sklearn import svm, linear_model, neighbors\n",
    "\n",
    "def trainModel(train_df, clf):\n",
    "    #features = list(train_df.columns.difference(['Drug','Disease','Class']))\n",
    "    features= ['Feature_GO-SIM',\n",
    "        'Feature_PPI-SIM',\n",
    "        'Feature_SE-SIM',\n",
    "        'Feature_TARGETSEQ-SIM',\n",
    "        'Feature_TC',\n",
    "        'Feature_HPO-SIM',\n",
    "        'Feature_PHENO-SIM']\n",
    "    X = train_df[features]\n",
    "    y = train_df['Class']\n",
    "    print ('fiting classifier...')\n",
    "    clf.fit(X, y)\n",
    "    return clf"
   ]
  },
  {
   "cell_type": "code",
   "execution_count": 52,
   "metadata": {},
   "outputs": [
    {
     "name": "stdout",
     "output_type": "stream",
     "text": [
      "fiting classifier...\n"
     ]
    }
   ],
   "source": [
    "n_seed = 100\n",
    "clf = linear_model.LogisticRegression(penalty='l2', dual=False, tol=0.0001, C=1.0, random_state=n_seed) \n",
    "clf = trainModel(train_df, clf)"
   ]
  },
  {
   "cell_type": "markdown",
   "metadata": {},
   "source": [
    "# Evaulation "
   ]
  },
  {
   "cell_type": "code",
   "execution_count": 54,
   "metadata": {},
   "outputs": [],
   "source": [
    "from sklearn import metrics\n",
    "import numbers\n",
    "def multimetric_score(estimator, X_test, y_test, scorers):\n",
    "    \"\"\"Return a dict of score for multimetric scoring\"\"\"\n",
    "    scores = {}\n",
    "    for name, scorer in scorers.items():\n",
    "        if y_test is None:\n",
    "            score = scorer(estimator, X_test)\n",
    "        else:\n",
    "            \n",
    "            score = scorer(estimator, X_test, y_test)\n",
    "\n",
    "        if hasattr(score, 'item'):\n",
    "            try:\n",
    "                # e.g. unwrap memmapped scalars\n",
    "                score = score.item()\n",
    "            except ValueError:\n",
    "                # non-scalar?\n",
    "                pass\n",
    "        scores[name] = score\n",
    "\n",
    "        if not isinstance(score, numbers.Number):\n",
    "            raise ValueError(\"scoring must return a number, got %s (%s) \"\n",
    "                             \"instead. (scorer=%s)\"\n",
    "                             % (str(score), type(score), name))\n",
    "    return scores\n",
    "\n",
    "def evaluate(test_df, clf):\n",
    "    #\n",
    "    # features = list(train_df.columns.difference(['Drug','Disease','Class']))\n",
    "    features= ['Feature_GO-SIM',\n",
    "        'Feature_PPI-SIM',\n",
    "        'Feature_SE-SIM',\n",
    "        'Feature_TARGETSEQ-SIM',\n",
    "        'Feature_TC',\n",
    "        'Feature_HPO-SIM',\n",
    "        'Feature_PHENO-SIM']\n",
    "    X_test =  test_df[features]\n",
    "    y_test = test_df['Class']\n",
    "\n",
    "    scoring = ['precision', 'recall', 'accuracy', 'roc_auc', 'f1', 'average_precision']\n",
    "    #scorers, multimetric = metrics.scorer._check_multimetric_scoring(clf, scoring=scoring)\n",
    "    scorers = {}\n",
    "    for scorer in scoring:\n",
    "        scorers[scorer] = metrics.get_scorer(scorer)\n",
    "\n",
    "    scores = multimetric_score(clf, X_test, y_test, scorers)\n",
    "    return scores\n",
    "\n",
    "disjoint = True\n",
    "n_fold = 10"
   ]
  },
  {
   "cell_type": "code",
   "execution_count": 59,
   "metadata": {},
   "outputs": [
    {
     "name": "stdout",
     "output_type": "stream",
     "text": [
      "Test: {'precision': 0.7846153846153846, 'recall': 0.6107784431137725, 'accuracy': 0.8143712574850299, 'roc_auc': 0.8221341747642439, 'f1': 0.6868686868686869, 'average_precision': 0.7984775839698814}\n"
     ]
    }
   ],
   "source": [
    "scores = evaluate(test_df, clf)\n",
    "print (\"Test:\",scores)"
   ]
  },
  {
   "cell_type": "markdown",
   "metadata": {},
   "source": [
    "# 10-fold drug-disjoint cross-validation (PREDICT - CV scheme )"
   ]
  },
  {
   "cell_type": "code",
   "execution_count": 57,
   "metadata": {},
   "outputs": [
    {
     "name": "stdout",
     "output_type": "stream",
     "text": [
      "Disjoint\n",
      "Fold 1\n",
      "Time elapsed to generate features: 00:00:32\n",
      "fiting classifier...\n",
      "Fold 2\n"
     ]
    },
    {
     "name": "stderr",
     "output_type": "stream",
     "text": [
      "/var/folders/n0/wfv9tgj96fg1rw1kvy3tmls80000gn/T/ipykernel_7458/1104912358.py:35: FutureWarning: The frame.append method is deprecated and will be removed from pandas in a future version. Use pandas.concat instead.\n",
      "  cv_results = cv_results.append(scores, ignore_index=True)\n"
     ]
    },
    {
     "name": "stdout",
     "output_type": "stream",
     "text": [
      "Time elapsed to generate features: 00:00:32\n",
      "fiting classifier...\n",
      "Fold 3\n"
     ]
    },
    {
     "name": "stderr",
     "output_type": "stream",
     "text": [
      "/var/folders/n0/wfv9tgj96fg1rw1kvy3tmls80000gn/T/ipykernel_7458/1104912358.py:35: FutureWarning: The frame.append method is deprecated and will be removed from pandas in a future version. Use pandas.concat instead.\n",
      "  cv_results = cv_results.append(scores, ignore_index=True)\n"
     ]
    },
    {
     "name": "stdout",
     "output_type": "stream",
     "text": [
      "Time elapsed to generate features: 00:00:31\n",
      "fiting classifier...\n",
      "Fold 4\n"
     ]
    },
    {
     "name": "stderr",
     "output_type": "stream",
     "text": [
      "/var/folders/n0/wfv9tgj96fg1rw1kvy3tmls80000gn/T/ipykernel_7458/1104912358.py:35: FutureWarning: The frame.append method is deprecated and will be removed from pandas in a future version. Use pandas.concat instead.\n",
      "  cv_results = cv_results.append(scores, ignore_index=True)\n"
     ]
    },
    {
     "name": "stdout",
     "output_type": "stream",
     "text": [
      "Time elapsed to generate features: 00:00:31\n",
      "fiting classifier...\n",
      "Fold 5\n"
     ]
    },
    {
     "name": "stderr",
     "output_type": "stream",
     "text": [
      "/var/folders/n0/wfv9tgj96fg1rw1kvy3tmls80000gn/T/ipykernel_7458/1104912358.py:35: FutureWarning: The frame.append method is deprecated and will be removed from pandas in a future version. Use pandas.concat instead.\n",
      "  cv_results = cv_results.append(scores, ignore_index=True)\n"
     ]
    },
    {
     "name": "stdout",
     "output_type": "stream",
     "text": [
      "Time elapsed to generate features: 00:00:32\n",
      "fiting classifier...\n",
      "Fold 6\n"
     ]
    },
    {
     "name": "stderr",
     "output_type": "stream",
     "text": [
      "/var/folders/n0/wfv9tgj96fg1rw1kvy3tmls80000gn/T/ipykernel_7458/1104912358.py:35: FutureWarning: The frame.append method is deprecated and will be removed from pandas in a future version. Use pandas.concat instead.\n",
      "  cv_results = cv_results.append(scores, ignore_index=True)\n"
     ]
    },
    {
     "name": "stdout",
     "output_type": "stream",
     "text": [
      "Time elapsed to generate features: 00:00:32\n",
      "fiting classifier...\n",
      "Fold 7\n"
     ]
    },
    {
     "name": "stderr",
     "output_type": "stream",
     "text": [
      "/var/folders/n0/wfv9tgj96fg1rw1kvy3tmls80000gn/T/ipykernel_7458/1104912358.py:35: FutureWarning: The frame.append method is deprecated and will be removed from pandas in a future version. Use pandas.concat instead.\n",
      "  cv_results = cv_results.append(scores, ignore_index=True)\n"
     ]
    },
    {
     "name": "stdout",
     "output_type": "stream",
     "text": [
      "Time elapsed to generate features: 00:00:33\n",
      "fiting classifier...\n",
      "Fold 8\n"
     ]
    },
    {
     "name": "stderr",
     "output_type": "stream",
     "text": [
      "/var/folders/n0/wfv9tgj96fg1rw1kvy3tmls80000gn/T/ipykernel_7458/1104912358.py:35: FutureWarning: The frame.append method is deprecated and will be removed from pandas in a future version. Use pandas.concat instead.\n",
      "  cv_results = cv_results.append(scores, ignore_index=True)\n"
     ]
    },
    {
     "name": "stdout",
     "output_type": "stream",
     "text": [
      "Time elapsed to generate features: 00:00:32\n",
      "fiting classifier...\n",
      "Fold 9\n"
     ]
    },
    {
     "name": "stderr",
     "output_type": "stream",
     "text": [
      "/var/folders/n0/wfv9tgj96fg1rw1kvy3tmls80000gn/T/ipykernel_7458/1104912358.py:35: FutureWarning: The frame.append method is deprecated and will be removed from pandas in a future version. Use pandas.concat instead.\n",
      "  cv_results = cv_results.append(scores, ignore_index=True)\n"
     ]
    },
    {
     "name": "stdout",
     "output_type": "stream",
     "text": [
      "Time elapsed to generate features: 00:00:31\n",
      "fiting classifier...\n",
      "Fold 10\n"
     ]
    },
    {
     "name": "stderr",
     "output_type": "stream",
     "text": [
      "/var/folders/n0/wfv9tgj96fg1rw1kvy3tmls80000gn/T/ipykernel_7458/1104912358.py:35: FutureWarning: The frame.append method is deprecated and will be removed from pandas in a future version. Use pandas.concat instead.\n",
      "  cv_results = cv_results.append(scores, ignore_index=True)\n"
     ]
    },
    {
     "name": "stdout",
     "output_type": "stream",
     "text": [
      "Time elapsed to generate features: 00:00:31\n",
      "fiting classifier...\n"
     ]
    },
    {
     "name": "stderr",
     "output_type": "stream",
     "text": [
      "/var/folders/n0/wfv9tgj96fg1rw1kvy3tmls80000gn/T/ipykernel_7458/1104912358.py:35: FutureWarning: The frame.append method is deprecated and will be removed from pandas in a future version. Use pandas.concat instead.\n",
      "  cv_results = cv_results.append(scores, ignore_index=True)\n"
     ]
    }
   ],
   "source": [
    "disjoint = True\n",
    "n_fold = 10\n",
    "\n",
    "if disjoint:\n",
    "    print ('Disjoint')\n",
    "    groups = pairs[:,0] # group by drug\n",
    "    group_kfold = GroupKFold(n_splits=n_fold)\n",
    "    cv = group_kfold.split(pairs, classes, groups)\n",
    "else:\n",
    "    print ('Non-disjoint')\n",
    "    skf = StratifiedKFold(n_splits=n_fold, shuffle=True, random_state=n_seed)\n",
    "    cv = skf.split(pairs, classes)\n",
    "\n",
    "n_seed = 100\n",
    "cv_results = pd.DataFrame()\n",
    "clf = linear_model.LogisticRegression(penalty='l2', solver='lbfgs', dual=False, tol=0.0001, C=1.0, random_state=n_seed) \n",
    "  \n",
    "for i, (train, test) in enumerate(cv):\n",
    "    print ('Fold',i+1)\n",
    "    start_time = time.time()\n",
    "    pairs_train = pairs[train]\n",
    "    classes_train = classes[train] \n",
    "    pairs_test = pairs[test]\n",
    "    classes_test = classes[test]\n",
    "    knownDrugDisease= pairs_train[classes_train==1]\n",
    "    \n",
    "    train_df, test_df = calculateSingleSimilarity(pairs_train, pairs_test, classes_train, classes_test, drug_df, disease_df, knownDrugDisease)\n",
    "    elapsed_time = time.time() - start_time\n",
    "    print ('Time elapsed to generate features:',time.strftime(\"%H:%M:%S\", time.gmtime(elapsed_time)))\n",
    "\n",
    "    clf = trainModel(train_df, clf)\n",
    "    \n",
    "    scores = evaluate(test_df, clf)\n",
    "    #print (\"Scores:\",scores)\n",
    "    cv_results = cv_results.append(scores, ignore_index=True)"
   ]
  },
  {
   "cell_type": "code",
   "execution_count": 58,
   "metadata": {},
   "outputs": [
    {
     "data": {
      "text/plain": [
       "precision            0.823548\n",
       "recall               0.585959\n",
       "accuracy             0.818888\n",
       "roc_auc              0.827370\n",
       "f1                   0.681740\n",
       "average_precision    0.787859\n",
       "dtype: float64"
      ]
     },
     "execution_count": 58,
     "metadata": {},
     "output_type": "execute_result"
    }
   ],
   "source": [
    "cv_results.mean()"
   ]
  },
  {
   "cell_type": "code",
   "execution_count": null,
   "metadata": {},
   "outputs": [],
   "source": [
    "os.mkdir('results')\n",
    "cv_results.to_csv('results/disjoint_lr.csv')"
   ]
  },
  {
   "cell_type": "code",
   "execution_count": 2,
   "metadata": {},
   "outputs": [],
   "source": [
    "#import pandas as pd\n",
    "#cv_results = pd.read_csv('results/disjoint_lr.csv')"
   ]
  },
  {
   "cell_type": "code",
   "execution_count": 3,
   "metadata": {},
   "outputs": [
    {
     "data": {
      "text/html": [
       "<div>\n",
       "<style scoped>\n",
       "    .dataframe tbody tr th:only-of-type {\n",
       "        vertical-align: middle;\n",
       "    }\n",
       "\n",
       "    .dataframe tbody tr th {\n",
       "        vertical-align: top;\n",
       "    }\n",
       "\n",
       "    .dataframe thead th {\n",
       "        text-align: right;\n",
       "    }\n",
       "</style>\n",
       "<table border=\"1\" class=\"dataframe\">\n",
       "  <thead>\n",
       "    <tr style=\"text-align: right;\">\n",
       "      <th></th>\n",
       "      <th>Unnamed: 0</th>\n",
       "      <th>accuracy</th>\n",
       "      <th>average_precision</th>\n",
       "      <th>f1</th>\n",
       "      <th>precision</th>\n",
       "      <th>recall</th>\n",
       "      <th>roc_auc</th>\n",
       "    </tr>\n",
       "  </thead>\n",
       "  <tbody>\n",
       "    <tr>\n",
       "      <th>0</th>\n",
       "      <td>0</td>\n",
       "      <td>0.734531</td>\n",
       "      <td>0.814619</td>\n",
       "      <td>0.512821</td>\n",
       "      <td>0.933333</td>\n",
       "      <td>0.353535</td>\n",
       "      <td>0.848552</td>\n",
       "    </tr>\n",
       "    <tr>\n",
       "      <th>1</th>\n",
       "      <td>1</td>\n",
       "      <td>0.816733</td>\n",
       "      <td>0.844710</td>\n",
       "      <td>0.671429</td>\n",
       "      <td>0.940000</td>\n",
       "      <td>0.522222</td>\n",
       "      <td>0.861680</td>\n",
       "    </tr>\n",
       "    <tr>\n",
       "      <th>2</th>\n",
       "      <td>2</td>\n",
       "      <td>0.814741</td>\n",
       "      <td>0.851837</td>\n",
       "      <td>0.706625</td>\n",
       "      <td>0.888889</td>\n",
       "      <td>0.586387</td>\n",
       "      <td>0.886517</td>\n",
       "    </tr>\n",
       "    <tr>\n",
       "      <th>3</th>\n",
       "      <td>3</td>\n",
       "      <td>0.816733</td>\n",
       "      <td>0.816190</td>\n",
       "      <td>0.701299</td>\n",
       "      <td>0.857143</td>\n",
       "      <td>0.593407</td>\n",
       "      <td>0.849579</td>\n",
       "    </tr>\n",
       "    <tr>\n",
       "      <th>4</th>\n",
       "      <td>4</td>\n",
       "      <td>0.868526</td>\n",
       "      <td>0.846952</td>\n",
       "      <td>0.731707</td>\n",
       "      <td>0.947368</td>\n",
       "      <td>0.596026</td>\n",
       "      <td>0.874493</td>\n",
       "    </tr>\n",
       "  </tbody>\n",
       "</table>\n",
       "</div>"
      ],
      "text/plain": [
       "   Unnamed: 0  accuracy  average_precision        f1  precision    recall  \\\n",
       "0           0  0.734531           0.814619  0.512821   0.933333  0.353535   \n",
       "1           1  0.816733           0.844710  0.671429   0.940000  0.522222   \n",
       "2           2  0.814741           0.851837  0.706625   0.888889  0.586387   \n",
       "3           3  0.816733           0.816190  0.701299   0.857143  0.593407   \n",
       "4           4  0.868526           0.846952  0.731707   0.947368  0.596026   \n",
       "\n",
       "    roc_auc  \n",
       "0  0.848552  \n",
       "1  0.861680  \n",
       "2  0.886517  \n",
       "3  0.849579  \n",
       "4  0.874493  "
      ]
     },
     "execution_count": 3,
     "metadata": {},
     "output_type": "execute_result"
    }
   ],
   "source": [
    "cv_results.head()"
   ]
  },
  {
   "cell_type": "code",
   "execution_count": null,
   "metadata": {},
   "outputs": [],
   "source": [
    "import time\n",
    "def generateURI(prefix):\n",
    "    uniqueID= int(round(time.time() * 1000))\n",
    "    uri = URIRef(prefix+str(uniqueID))\n",
    "    return uri"
   ]
  },
  {
   "cell_type": "code",
   "execution_count": null,
   "metadata": {},
   "outputs": [],
   "source": [
    "DC = Namespace(\"http://purl.org/dc/terms/\")\n",
    "MLS = Namespace(\"http://www.w3.org/ns/mls#\")\n",
    "RPC = Namespace(\"https://w3id.org/reproduceme#\")\n",
    "RDFS = Namespace(\"http://www.w3.org/2000/01/rdf-schema#\")\n",
    "\n",
    "g =  ConjunctiveGraph(identifier = URIRef('http://bio2rdf.org/openpredict_resource:bio2rdf.dataset.openpredict.R1')) \n",
    "\n",
    "#graphURI = URIRef('http://bio2rdf.org/openpredict_resource:bio2rdf.output.openpredict.R1')\n",
    "runURI = generateURI('http://www.w3.org/ns/mls#Run')\n",
    "evalURI = generateURI('http://www.w3.org/ns/mls#ModelEvaluation')\n",
    "evalSpecURI = generateURI('http://www.w3.org/ns/mls#EvaluationSpecification')\n",
    "\n",
    "g.add((runURI, RDF['type'], MLS['Run']))\n",
    "g.add((runURI, MLS['achieves'], RPC['Pipeline_OpenPREDICT']))\n",
    "\n",
    "g.add((runURI, MLS['hasOutput'], evalURI))\n",
    "g.add((evalURI, RDF['type'], MLS['ModelEvaluation']))\n",
    "\n",
    "g.add((evalSpecURI, MLS['defines'],  RPC['Pipeline_OpenPREDICT']))\n",
    "g.add((evalSpecURI, MLS['hasPart'],  MLS['TenFoldCrossValidation']))\n",
    "g.add((MLS['TenFoldCrossValidation'], RDF['type'],  MLS['EvaluationProcedure']))\n",
    "g.add((MLS['TenFoldCrossValidation'], RDFS['label'],  Literal('10-fold CV')))\n",
    "\n",
    "g.add((evalSpecURI, MLS['hasPart'],  MLS['DrugwiseCrossValidation']))\n",
    "g.add((MLS['DrugwiseCrossValidation'], RDF['type'],  MLS['EvaluationProcedure']))\n",
    "g.add((MLS['DrugwiseCrossValidation'], RDFS['label'],  Literal('Drugwise CrossValidation')))\n",
    "g.add((MLS['DrugwiseCrossValidation'], DC['description'],  Literal('Split drugs in 10-fold, remove drugs of each fold in the gold standard and consequently remove all the known indication sassociated with them')))\n",
    "\n",
    "for index, value in cv_results.mean().items():\n",
    "    measureURI = generateURI('http://www.w3.org/ns/mls#Measure_'+index)\n",
    "    g.add((evalSpecURI, MLS['hasPart'],  measureURI))      \n",
    "    g.add((evalURI, MLS['specifiedBy'],measureURI ))\n",
    "    g.add((measureURI, RDF['type'], MLS['EvaluationMeasure']))\n",
    "    g.add((measureURI, RDFS['label'],  Literal(index)))\n",
    "    g.add((measureURI, MLS['hasValue'],  Literal(value)))\n",
    "\n"
   ]
  },
  {
   "cell_type": "code",
   "execution_count": null,
   "metadata": {},
   "outputs": [],
   "source": [
    "outfile ='results/results_disjoint_lr.nq'\n",
    "g.serialize(outfile, format='nquads')\n",
    "print('RDF is generated at '+outfile)"
   ]
  },
  {
   "cell_type": "code",
   "execution_count": null,
   "metadata": {},
   "outputs": [],
   "source": [
    "#import shutil\n",
    "#import os\n",
    "#shutil.copytree('results',os.path.join(abs_path, 'data/results/'))"
   ]
  }
 ],
 "metadata": {
  "kernelspec": {
   "display_name": "Python 3.9.13 ('DRKG_OPENPREDICT-jHqmHELr')",
   "language": "python",
   "name": "python3"
  },
  "language_info": {
   "codemirror_mode": {
    "name": "ipython",
    "version": 3
   },
   "file_extension": ".py",
   "mimetype": "text/x-python",
   "name": "python",
   "nbconvert_exporter": "python",
   "pygments_lexer": "ipython3",
   "version": "3.9.13"
  },
  "vscode": {
   "interpreter": {
    "hash": "8c949a3fe7577058875ca22a82f9cdb710be7d780091df539b3f915baaeafb57"
   }
  }
 },
 "nbformat": 4,
 "nbformat_minor": 4
}
